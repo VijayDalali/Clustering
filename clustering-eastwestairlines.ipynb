{
 "cells": [
  {
   "cell_type": "markdown",
   "metadata": {
    "papermill": {
     "duration": 0.07393,
     "end_time": "2020-10-20T15:27:53.713910",
     "exception": false,
     "start_time": "2020-10-20T15:27:53.639980",
     "status": "completed"
    },
    "tags": []
   },
   "source": [
    "#  Clustering.\n",
    "Perform clustering (hierarchical,K means clustering and DBSCAN) for the airlines data to obtain optimum number of clusters. \n",
    "Draw the inferences from the clusters obtained.\n",
    "\n",
    "Data Description:\n",
    " \n",
    "The file EastWestAirlinescontains information on passengers who belong to an airline’s frequent flier program. For each passenger the data include information on their mileage history and on different ways they accrued or spent miles in the last year. The goal is to try to identify clusters of passengers that have similar characteristics for the purpose of targeting different segments for different types of mileage offers\n",
    "\n",
    "ID --Unique ID\n",
    "\n",
    "Balance--Number of miles eligible for award travel\n",
    "\n",
    "Qual_mile--Number of miles counted as qualifying for Topflight status\n",
    "\n",
    "cc1_miles -- Number of miles earned with freq. flyer credit card in the past 12 months:\n",
    "cc2_miles -- Number of miles earned with Rewards credit card in the past 12 months:\n",
    "cc3_miles -- Number of miles earned with Small Business credit card in the past 12 months:\n",
    "\n",
    "1 = under 5,000\n",
    "2 = 5,000 - 10,000\n",
    "3 = 10,001 - 25,000\n",
    "4 = 25,001 - 50,000\n",
    "5 = over 50,000\n",
    "\n",
    "Bonus_miles--Number of miles earned from non-flight bonus transactions in the past 12 months\n",
    "\n",
    "Bonus_trans--Number of non-flight bonus transactions in the past 12 months\n",
    "\n",
    "Flight_miles_12mo--Number of flight miles in the past 12 months\n",
    "\n",
    "Flight_trans_12--Number of flight transactions in the past 12 months\n",
    "\n",
    "Days_since_enrolled--Number of days since enrolled in flier program\n",
    "\n",
    "Award--whether that person had award flight (free flight) or not"
   ]
  },
  {
   "cell_type": "markdown",
   "metadata": {
    "papermill": {
     "duration": 0.070118,
     "end_time": "2020-10-20T15:27:54.287982",
     "exception": false,
     "start_time": "2020-10-20T15:27:54.217864",
     "status": "completed"
    },
    "tags": []
   },
   "source": [
    "# Step 1: Import libraries required."
   ]
  },
  {
   "cell_type": "code",
   "execution_count": 1,
   "metadata": {
    "execution": {
     "iopub.execute_input": "2020-10-20T15:27:54.435978Z",
     "iopub.status.busy": "2020-10-20T15:27:54.435052Z",
     "iopub.status.idle": "2020-10-20T15:27:55.666976Z",
     "shell.execute_reply": "2020-10-20T15:27:55.667944Z"
    },
    "papermill": {
     "duration": 1.310048,
     "end_time": "2020-10-20T15:27:55.668214",
     "exception": false,
     "start_time": "2020-10-20T15:27:54.358166",
     "status": "completed"
    },
    "tags": []
   },
   "outputs": [],
   "source": [
    "import numpy as np\n",
    "import pandas as pd \n",
    "\n",
    "import matplotlib.pyplot as plt\n",
    "import seaborn as sns\n",
    "\n",
    "import warnings\n",
    "warnings.filterwarnings('ignore')"
   ]
  },
  {
   "cell_type": "markdown",
   "metadata": {
    "papermill": {
     "duration": 0.070467,
     "end_time": "2020-10-20T15:27:55.822199",
     "exception": false,
     "start_time": "2020-10-20T15:27:55.751732",
     "status": "completed"
    },
    "tags": []
   },
   "source": [
    "# Step 2: Load dataset"
   ]
  },
  {
   "cell_type": "code",
   "execution_count": 2,
   "metadata": {
    "execution": {
     "iopub.execute_input": "2020-10-20T15:27:55.971079Z",
     "iopub.status.busy": "2020-10-20T15:27:55.970000Z",
     "iopub.status.idle": "2020-10-20T15:27:57.423324Z",
     "shell.execute_reply": "2020-10-20T15:27:57.422460Z"
    },
    "papermill": {
     "duration": 1.530316,
     "end_time": "2020-10-20T15:27:57.423455",
     "exception": false,
     "start_time": "2020-10-20T15:27:55.893139",
     "status": "completed"
    },
    "tags": []
   },
   "outputs": [],
   "source": [
    "dataset = pd.read_excel(\"../input/east-west-airlines/EastWestAirlines.xlsx\", sheet_name='data')"
   ]
  },
  {
   "cell_type": "code",
   "execution_count": 3,
   "metadata": {
    "execution": {
     "iopub.execute_input": "2020-10-20T15:27:57.584996Z",
     "iopub.status.busy": "2020-10-20T15:27:57.575026Z",
     "iopub.status.idle": "2020-10-20T15:27:57.598608Z",
     "shell.execute_reply": "2020-10-20T15:27:57.599267Z"
    },
    "papermill": {
     "duration": 0.10513,
     "end_time": "2020-10-20T15:27:57.599453",
     "exception": false,
     "start_time": "2020-10-20T15:27:57.494323",
     "status": "completed"
    },
    "tags": []
   },
   "outputs": [
    {
     "data": {
      "text/html": [
       "<div>\n",
       "<style scoped>\n",
       "    .dataframe tbody tr th:only-of-type {\n",
       "        vertical-align: middle;\n",
       "    }\n",
       "\n",
       "    .dataframe tbody tr th {\n",
       "        vertical-align: top;\n",
       "    }\n",
       "\n",
       "    .dataframe thead th {\n",
       "        text-align: right;\n",
       "    }\n",
       "</style>\n",
       "<table border=\"1\" class=\"dataframe\">\n",
       "  <thead>\n",
       "    <tr style=\"text-align: right;\">\n",
       "      <th></th>\n",
       "      <th>ID#</th>\n",
       "      <th>Balance</th>\n",
       "      <th>Qual_miles</th>\n",
       "      <th>cc1_miles</th>\n",
       "      <th>cc2_miles</th>\n",
       "      <th>cc3_miles</th>\n",
       "      <th>Bonus_miles</th>\n",
       "      <th>Bonus_trans</th>\n",
       "      <th>Flight_miles_12mo</th>\n",
       "      <th>Flight_trans_12</th>\n",
       "      <th>Days_since_enroll</th>\n",
       "      <th>Award?</th>\n",
       "    </tr>\n",
       "  </thead>\n",
       "  <tbody>\n",
       "    <tr>\n",
       "      <th>0</th>\n",
       "      <td>1</td>\n",
       "      <td>28143</td>\n",
       "      <td>0</td>\n",
       "      <td>1</td>\n",
       "      <td>1</td>\n",
       "      <td>1</td>\n",
       "      <td>174</td>\n",
       "      <td>1</td>\n",
       "      <td>0</td>\n",
       "      <td>0</td>\n",
       "      <td>7000</td>\n",
       "      <td>0</td>\n",
       "    </tr>\n",
       "    <tr>\n",
       "      <th>1</th>\n",
       "      <td>2</td>\n",
       "      <td>19244</td>\n",
       "      <td>0</td>\n",
       "      <td>1</td>\n",
       "      <td>1</td>\n",
       "      <td>1</td>\n",
       "      <td>215</td>\n",
       "      <td>2</td>\n",
       "      <td>0</td>\n",
       "      <td>0</td>\n",
       "      <td>6968</td>\n",
       "      <td>0</td>\n",
       "    </tr>\n",
       "    <tr>\n",
       "      <th>2</th>\n",
       "      <td>3</td>\n",
       "      <td>41354</td>\n",
       "      <td>0</td>\n",
       "      <td>1</td>\n",
       "      <td>1</td>\n",
       "      <td>1</td>\n",
       "      <td>4123</td>\n",
       "      <td>4</td>\n",
       "      <td>0</td>\n",
       "      <td>0</td>\n",
       "      <td>7034</td>\n",
       "      <td>0</td>\n",
       "    </tr>\n",
       "    <tr>\n",
       "      <th>3</th>\n",
       "      <td>4</td>\n",
       "      <td>14776</td>\n",
       "      <td>0</td>\n",
       "      <td>1</td>\n",
       "      <td>1</td>\n",
       "      <td>1</td>\n",
       "      <td>500</td>\n",
       "      <td>1</td>\n",
       "      <td>0</td>\n",
       "      <td>0</td>\n",
       "      <td>6952</td>\n",
       "      <td>0</td>\n",
       "    </tr>\n",
       "    <tr>\n",
       "      <th>4</th>\n",
       "      <td>5</td>\n",
       "      <td>97752</td>\n",
       "      <td>0</td>\n",
       "      <td>4</td>\n",
       "      <td>1</td>\n",
       "      <td>1</td>\n",
       "      <td>43300</td>\n",
       "      <td>26</td>\n",
       "      <td>2077</td>\n",
       "      <td>4</td>\n",
       "      <td>6935</td>\n",
       "      <td>1</td>\n",
       "    </tr>\n",
       "  </tbody>\n",
       "</table>\n",
       "</div>"
      ],
      "text/plain": [
       "   ID#  Balance  Qual_miles  cc1_miles  cc2_miles  cc3_miles  Bonus_miles  \\\n",
       "0    1    28143           0          1          1          1          174   \n",
       "1    2    19244           0          1          1          1          215   \n",
       "2    3    41354           0          1          1          1         4123   \n",
       "3    4    14776           0          1          1          1          500   \n",
       "4    5    97752           0          4          1          1        43300   \n",
       "\n",
       "   Bonus_trans  Flight_miles_12mo  Flight_trans_12  Days_since_enroll  Award?  \n",
       "0            1                  0                0               7000       0  \n",
       "1            2                  0                0               6968       0  \n",
       "2            4                  0                0               7034       0  \n",
       "3            1                  0                0               6952       0  \n",
       "4           26               2077                4               6935       1  "
      ]
     },
     "execution_count": 3,
     "metadata": {},
     "output_type": "execute_result"
    }
   ],
   "source": [
    "dataset.head()"
   ]
  },
  {
   "cell_type": "code",
   "execution_count": 4,
   "metadata": {
    "execution": {
     "iopub.execute_input": "2020-10-20T15:27:57.754774Z",
     "iopub.status.busy": "2020-10-20T15:27:57.753876Z",
     "iopub.status.idle": "2020-10-20T15:27:57.757822Z",
     "shell.execute_reply": "2020-10-20T15:27:57.757045Z"
    },
    "papermill": {
     "duration": 0.084235,
     "end_time": "2020-10-20T15:27:57.757974",
     "exception": false,
     "start_time": "2020-10-20T15:27:57.673739",
     "status": "completed"
    },
    "tags": []
   },
   "outputs": [],
   "source": [
    "# Column rename.\n",
    "\n",
    "dataset= dataset.rename(columns={'ID#':'ID', 'Award?':'Award'})"
   ]
  },
  {
   "cell_type": "markdown",
   "metadata": {
    "papermill": {
     "duration": 0.072469,
     "end_time": "2020-10-20T15:27:57.903318",
     "exception": false,
     "start_time": "2020-10-20T15:27:57.830849",
     "status": "completed"
    },
    "tags": []
   },
   "source": [
    "Data feature information availabele in https://github.com/ShrikantUppin/Clustering/tree/main/1.%20Data%20preprocessing%20%26%20PCA%20output"
   ]
  },
  {
   "cell_type": "markdown",
   "metadata": {
    "papermill": {
     "duration": 0.074727,
     "end_time": "2020-10-20T15:27:58.050469",
     "exception": false,
     "start_time": "2020-10-20T15:27:57.975742",
     "status": "completed"
    },
    "tags": []
   },
   "source": [
    "# Step 3: Data preprocessing "
   ]
  },
  {
   "cell_type": "code",
   "execution_count": 5,
   "metadata": {
    "execution": {
     "iopub.execute_input": "2020-10-20T15:27:58.218978Z",
     "iopub.status.busy": "2020-10-20T15:27:58.218057Z",
     "iopub.status.idle": "2020-10-20T15:27:58.223170Z",
     "shell.execute_reply": "2020-10-20T15:27:58.222348Z"
    },
    "papermill": {
     "duration": 0.095906,
     "end_time": "2020-10-20T15:27:58.223319",
     "exception": false,
     "start_time": "2020-10-20T15:27:58.127413",
     "status": "completed"
    },
    "tags": []
   },
   "outputs": [
    {
     "data": {
      "text/html": [
       "<div>\n",
       "<style scoped>\n",
       "    .dataframe tbody tr th:only-of-type {\n",
       "        vertical-align: middle;\n",
       "    }\n",
       "\n",
       "    .dataframe tbody tr th {\n",
       "        vertical-align: top;\n",
       "    }\n",
       "\n",
       "    .dataframe thead th {\n",
       "        text-align: right;\n",
       "    }\n",
       "</style>\n",
       "<table border=\"1\" class=\"dataframe\">\n",
       "  <thead>\n",
       "    <tr style=\"text-align: right;\">\n",
       "      <th></th>\n",
       "      <th>Balance</th>\n",
       "      <th>Qual_miles</th>\n",
       "      <th>cc1_miles</th>\n",
       "      <th>cc2_miles</th>\n",
       "      <th>cc3_miles</th>\n",
       "      <th>Bonus_miles</th>\n",
       "      <th>Bonus_trans</th>\n",
       "      <th>Flight_miles_12mo</th>\n",
       "      <th>Flight_trans_12</th>\n",
       "      <th>Days_since_enroll</th>\n",
       "    </tr>\n",
       "  </thead>\n",
       "  <tbody>\n",
       "    <tr>\n",
       "      <th>0</th>\n",
       "      <td>28143</td>\n",
       "      <td>0</td>\n",
       "      <td>1</td>\n",
       "      <td>1</td>\n",
       "      <td>1</td>\n",
       "      <td>174</td>\n",
       "      <td>1</td>\n",
       "      <td>0</td>\n",
       "      <td>0</td>\n",
       "      <td>7000</td>\n",
       "    </tr>\n",
       "    <tr>\n",
       "      <th>1</th>\n",
       "      <td>19244</td>\n",
       "      <td>0</td>\n",
       "      <td>1</td>\n",
       "      <td>1</td>\n",
       "      <td>1</td>\n",
       "      <td>215</td>\n",
       "      <td>2</td>\n",
       "      <td>0</td>\n",
       "      <td>0</td>\n",
       "      <td>6968</td>\n",
       "    </tr>\n",
       "  </tbody>\n",
       "</table>\n",
       "</div>"
      ],
      "text/plain": [
       "   Balance  Qual_miles  cc1_miles  cc2_miles  cc3_miles  Bonus_miles  \\\n",
       "0    28143           0          1          1          1          174   \n",
       "1    19244           0          1          1          1          215   \n",
       "\n",
       "   Bonus_trans  Flight_miles_12mo  Flight_trans_12  Days_since_enroll  \n",
       "0            1                  0                0               7000  \n",
       "1            2                  0                0               6968  "
      ]
     },
     "execution_count": 5,
     "metadata": {},
     "output_type": "execute_result"
    }
   ],
   "source": [
    "# not going to falloe EDA step here since it is already done in link1.(Above cell)\n",
    "# as we know ID & award will not make much contribution during clutering. we will drop both columns.\n",
    "\n",
    "dataset1 =  dataset.drop(['ID','Award'], axis=1)\n",
    "dataset1.head(2)"
   ]
  },
  {
   "cell_type": "markdown",
   "metadata": {
    "papermill": {
     "duration": 0.072869,
     "end_time": "2020-10-20T15:27:58.369989",
     "exception": false,
     "start_time": "2020-10-20T15:27:58.297120",
     "status": "completed"
    },
    "tags": []
   },
   "source": [
    " ## I am using two transformation..since to ckeck how cluster numbers varry with diff transformation."
   ]
  },
  {
   "cell_type": "markdown",
   "metadata": {
    "papermill": {
     "duration": 0.072957,
     "end_time": "2020-10-20T15:27:58.516448",
     "exception": false,
     "start_time": "2020-10-20T15:27:58.443491",
     "status": "completed"
    },
    "tags": []
   },
   "source": [
    " ### standardization"
   ]
  },
  {
   "cell_type": "code",
   "execution_count": 6,
   "metadata": {
    "execution": {
     "iopub.execute_input": "2020-10-20T15:27:58.669466Z",
     "iopub.status.busy": "2020-10-20T15:27:58.668574Z",
     "iopub.status.idle": "2020-10-20T15:27:58.758081Z",
     "shell.execute_reply": "2020-10-20T15:27:58.757200Z"
    },
    "papermill": {
     "duration": 0.168564,
     "end_time": "2020-10-20T15:27:58.758229",
     "exception": false,
     "start_time": "2020-10-20T15:27:58.589665",
     "status": "completed"
    },
    "tags": []
   },
   "outputs": [
    {
     "data": {
      "text/plain": [
       "(3999, 10)"
      ]
     },
     "execution_count": 6,
     "metadata": {},
     "output_type": "execute_result"
    }
   ],
   "source": [
    "\n",
    "from sklearn.preprocessing import StandardScaler\n",
    "\n",
    "std_df = StandardScaler().fit_transform(dataset1)      # this will used for kmeans\n",
    "std_df.shape"
   ]
  },
  {
   "cell_type": "markdown",
   "metadata": {
    "papermill": {
     "duration": 0.075025,
     "end_time": "2020-10-20T15:27:58.907566",
     "exception": false,
     "start_time": "2020-10-20T15:27:58.832541",
     "status": "completed"
    },
    "tags": []
   },
   "source": [
    " ### MinMaxScalar"
   ]
  },
  {
   "cell_type": "code",
   "execution_count": 7,
   "metadata": {
    "execution": {
     "iopub.execute_input": "2020-10-20T15:27:59.071266Z",
     "iopub.status.busy": "2020-10-20T15:27:59.070386Z",
     "iopub.status.idle": "2020-10-20T15:27:59.080136Z",
     "shell.execute_reply": "2020-10-20T15:27:59.079261Z"
    },
    "papermill": {
     "duration": 0.093884,
     "end_time": "2020-10-20T15:27:59.080302",
     "exception": false,
     "start_time": "2020-10-20T15:27:58.986418",
     "status": "completed"
    },
    "tags": []
   },
   "outputs": [
    {
     "data": {
      "text/plain": [
       "(3999, 10)"
      ]
     },
     "execution_count": 7,
     "metadata": {},
     "output_type": "execute_result"
    }
   ],
   "source": [
    "# Using Minmaxscaler for accuracy result comparison\n",
    "\n",
    "from sklearn.preprocessing import MinMaxScaler\n",
    "minmax = MinMaxScaler()\n",
    "\n",
    "minmax_df = minmax.fit_transform(dataset1)\n",
    "minmax_df.shape"
   ]
  },
  {
   "cell_type": "markdown",
   "metadata": {
    "papermill": {
     "duration": 0.075441,
     "end_time": "2020-10-20T15:27:59.232299",
     "exception": false,
     "start_time": "2020-10-20T15:27:59.156858",
     "status": "completed"
    },
    "tags": []
   },
   "source": [
    "# Step 4: PCA"
   ]
  },
  {
   "cell_type": "markdown",
   "metadata": {
    "papermill": {
     "duration": 0.073299,
     "end_time": "2020-10-20T15:27:59.379479",
     "exception": false,
     "start_time": "2020-10-20T15:27:59.306180",
     "status": "completed"
    },
    "tags": []
   },
   "source": [
    " ### 4.1 Running PCA of standardized data."
   ]
  },
  {
   "cell_type": "code",
   "execution_count": 8,
   "metadata": {
    "execution": {
     "iopub.execute_input": "2020-10-20T15:27:59.534137Z",
     "iopub.status.busy": "2020-10-20T15:27:59.533277Z",
     "iopub.status.idle": "2020-10-20T15:27:59.919773Z",
     "shell.execute_reply": "2020-10-20T15:27:59.919038Z"
    },
    "papermill": {
     "duration": 0.466607,
     "end_time": "2020-10-20T15:27:59.919923",
     "exception": false,
     "start_time": "2020-10-20T15:27:59.453316",
     "status": "completed"
    },
    "tags": []
   },
   "outputs": [],
   "source": [
    "# applying PCA on std_df\n",
    "\n",
    "# we are considering 95% variance in n_components to not loose any data.\n",
    "\n",
    "from sklearn.decomposition import PCA\n",
    "pca_std = PCA(random_state=10, n_components=0.95)\n",
    "pca_std_df= pca_std.fit_transform(std_df)"
   ]
  },
  {
   "cell_type": "code",
   "execution_count": 9,
   "metadata": {
    "execution": {
     "iopub.execute_input": "2020-10-20T15:28:00.078357Z",
     "iopub.status.busy": "2020-10-20T15:28:00.077354Z",
     "iopub.status.idle": "2020-10-20T15:28:00.081015Z",
     "shell.execute_reply": "2020-10-20T15:28:00.081749Z"
    },
    "papermill": {
     "duration": 0.087176,
     "end_time": "2020-10-20T15:28:00.081971",
     "exception": false,
     "start_time": "2020-10-20T15:27:59.994795",
     "status": "completed"
    },
    "tags": []
   },
   "outputs": [
    {
     "name": "stdout",
     "output_type": "stream",
     "text": [
      "[110.44189995  83.11377294  64.82616793  63.48944763  61.96605949\n",
      "  60.17942085  51.82140955  38.09870033]\n"
     ]
    }
   ],
   "source": [
    "# eigenvalues..\n",
    "\n",
    "print(pca_std.singular_values_)"
   ]
  },
  {
   "cell_type": "code",
   "execution_count": 10,
   "metadata": {
    "execution": {
     "iopub.execute_input": "2020-10-20T15:28:00.245182Z",
     "iopub.status.busy": "2020-10-20T15:28:00.244299Z",
     "iopub.status.idle": "2020-10-20T15:28:00.247561Z",
     "shell.execute_reply": "2020-10-20T15:28:00.248194Z"
    },
    "papermill": {
     "duration": 0.087262,
     "end_time": "2020-10-20T15:28:00.248381",
     "exception": false,
     "start_time": "2020-10-20T15:28:00.161119",
     "status": "completed"
    },
    "tags": []
   },
   "outputs": [
    {
     "name": "stdout",
     "output_type": "stream",
     "text": [
      "[30.50115845 17.27406665 10.5087073  10.07979485  9.60188179  9.05617078\n",
      "  6.71532505  3.62968484]\n"
     ]
    }
   ],
   "source": [
    "# variance containing in each formed PCA\n",
    "\n",
    "print(pca_std.explained_variance_ratio_*100)"
   ]
  },
  {
   "cell_type": "code",
   "execution_count": 11,
   "metadata": {
    "execution": {
     "iopub.execute_input": "2020-10-20T15:28:00.410678Z",
     "iopub.status.busy": "2020-10-20T15:28:00.409563Z",
     "iopub.status.idle": "2020-10-20T15:28:00.415843Z",
     "shell.execute_reply": "2020-10-20T15:28:00.414904Z"
    },
    "papermill": {
     "duration": 0.089676,
     "end_time": "2020-10-20T15:28:00.416017",
     "exception": false,
     "start_time": "2020-10-20T15:28:00.326341",
     "status": "completed"
    },
    "tags": []
   },
   "outputs": [
    {
     "data": {
      "text/plain": [
       "array([30.50115845, 47.7752251 , 58.28393239, 68.36372724, 77.96560903,\n",
       "       87.02177981, 93.73710486, 97.3667897 ])"
      ]
     },
     "execution_count": 11,
     "metadata": {},
     "output_type": "execute_result"
    }
   ],
   "source": [
    "# Cummulative variance ratio..\n",
    "\n",
    "# this will give an idea of, at how many no. of PCAs, the cummulative addition of\n",
    "#........variance will give much information..\n",
    "\n",
    "cum_variance = np.cumsum(pca_std.explained_variance_ratio_*100)\n",
    "cum_variance"
   ]
  },
  {
   "cell_type": "markdown",
   "metadata": {
    "papermill": {
     "duration": 0.078858,
     "end_time": "2020-10-20T15:28:00.574419",
     "exception": false,
     "start_time": "2020-10-20T15:28:00.495561",
     "status": "completed"
    },
    "tags": []
   },
   "source": [
    " Conclusion:\n",
    " \n",
    " * by applying PCA on standardized data with 95% variance it gives 8 PCA components."
   ]
  },
  {
   "cell_type": "markdown",
   "metadata": {
    "papermill": {
     "duration": 0.079226,
     "end_time": "2020-10-20T15:28:00.733328",
     "exception": false,
     "start_time": "2020-10-20T15:28:00.654102",
     "status": "completed"
    },
    "tags": []
   },
   "source": [
    " ### 4.2 Running PCA of MinMaxscalar data."
   ]
  },
  {
   "cell_type": "code",
   "execution_count": 12,
   "metadata": {
    "execution": {
     "iopub.execute_input": "2020-10-20T15:28:00.896547Z",
     "iopub.status.busy": "2020-10-20T15:28:00.895083Z",
     "iopub.status.idle": "2020-10-20T15:28:00.901774Z",
     "shell.execute_reply": "2020-10-20T15:28:00.902453Z"
    },
    "papermill": {
     "duration": 0.091338,
     "end_time": "2020-10-20T15:28:00.902666",
     "exception": false,
     "start_time": "2020-10-20T15:28:00.811328",
     "status": "completed"
    },
    "tags": []
   },
   "outputs": [],
   "source": [
    "# applying PCA on minmax_df\n",
    "\n",
    "from sklearn.decomposition import PCA\n",
    "\n",
    "pca_minmax =  PCA(random_state=10, n_components=0.95)\n",
    "pca_minmax_df = pca_minmax.fit_transform(minmax_df)"
   ]
  },
  {
   "cell_type": "code",
   "execution_count": 13,
   "metadata": {
    "execution": {
     "iopub.execute_input": "2020-10-20T15:28:01.066097Z",
     "iopub.status.busy": "2020-10-20T15:28:01.065161Z",
     "iopub.status.idle": "2020-10-20T15:28:01.068484Z",
     "shell.execute_reply": "2020-10-20T15:28:01.069187Z"
    },
    "papermill": {
     "duration": 0.088856,
     "end_time": "2020-10-20T15:28:01.069394",
     "exception": false,
     "start_time": "2020-10-20T15:28:00.980538",
     "status": "completed"
    },
    "tags": []
   },
   "outputs": [
    {
     "name": "stdout",
     "output_type": "stream",
     "text": [
      "[23.30644253 14.98078096  6.73641543  4.71018421  4.35528647]\n"
     ]
    }
   ],
   "source": [
    "# eigenvalues..\n",
    "\n",
    "print(pca_minmax.singular_values_)"
   ]
  },
  {
   "cell_type": "code",
   "execution_count": 14,
   "metadata": {
    "execution": {
     "iopub.execute_input": "2020-10-20T15:28:01.237983Z",
     "iopub.status.busy": "2020-10-20T15:28:01.237030Z",
     "iopub.status.idle": "2020-10-20T15:28:01.242334Z",
     "shell.execute_reply": "2020-10-20T15:28:01.241458Z"
    },
    "papermill": {
     "duration": 0.091855,
     "end_time": "2020-10-20T15:28:01.242527",
     "exception": false,
     "start_time": "2020-10-20T15:28:01.150672",
     "status": "completed"
    },
    "tags": []
   },
   "outputs": [
    {
     "name": "stdout",
     "output_type": "stream",
     "text": [
      "[60.47067269 24.98398618  5.05185116  2.46983879  2.11167109]\n"
     ]
    }
   ],
   "source": [
    "# variance containing in each formed PCA\n",
    "\n",
    "print(pca_minmax.explained_variance_ratio_*100)"
   ]
  },
  {
   "cell_type": "markdown",
   "metadata": {
    "papermill": {
     "duration": 0.077339,
     "end_time": "2020-10-20T15:28:01.398277",
     "exception": false,
     "start_time": "2020-10-20T15:28:01.320938",
     "status": "completed"
    },
    "tags": []
   },
   "source": [
    " Conclusion:\n",
    " \n",
    " * By applying PCA on MinMaxscalr transformation data gives 5 PCA components."
   ]
  },
  {
   "cell_type": "markdown",
   "metadata": {
    "papermill": {
     "duration": 0.078132,
     "end_time": "2020-10-20T15:28:01.554626",
     "exception": false,
     "start_time": "2020-10-20T15:28:01.476494",
     "status": "completed"
    },
    "tags": []
   },
   "source": [
    "# Step 5: KMeans Clustering.\n",
    "***"
   ]
  },
  {
   "cell_type": "markdown",
   "metadata": {
    "papermill": {
     "duration": 0.0784,
     "end_time": "2020-10-20T15:28:01.710956",
     "exception": false,
     "start_time": "2020-10-20T15:28:01.632556",
     "status": "completed"
    },
    "tags": []
   },
   "source": [
    "## 5.1.1 How many numbers of cluster. Also deciding which transformation data we will use to build model."
   ]
  },
  {
   "cell_type": "markdown",
   "metadata": {
    "papermill": {
     "duration": 0.08578,
     "end_time": "2020-10-20T15:28:01.926859",
     "exception": false,
     "start_time": "2020-10-20T15:28:01.841079",
     "status": "completed"
    },
    "tags": []
   },
   "source": [
    "##### First Stage: Taking stadardization transformation data & PCA applied on it.\n",
    "***"
   ]
  },
  {
   "cell_type": "markdown",
   "metadata": {
    "papermill": {
     "duration": 0.084475,
     "end_time": "2020-10-20T15:28:02.100266",
     "exception": false,
     "start_time": "2020-10-20T15:28:02.015791",
     "status": "completed"
    },
    "tags": []
   },
   "source": [
    " #### Method1:"
   ]
  },
  {
   "cell_type": "code",
   "execution_count": 15,
   "metadata": {
    "execution": {
     "iopub.execute_input": "2020-10-20T15:28:02.284939Z",
     "iopub.status.busy": "2020-10-20T15:28:02.284033Z",
     "iopub.status.idle": "2020-10-20T15:28:12.333032Z",
     "shell.execute_reply": "2020-10-20T15:28:12.332130Z"
    },
    "papermill": {
     "duration": 10.143173,
     "end_time": "2020-10-20T15:28:12.333176",
     "exception": false,
     "start_time": "2020-10-20T15:28:02.190003",
     "status": "completed"
    },
    "scrolled": false,
    "tags": []
   },
   "outputs": [
    {
     "name": "stdout",
     "output_type": "stream",
     "text": [
      "model1\n"
     ]
    },
    {
     "data": {
      "image/png": "[encoded data removed]",
      "text/plain": [
       "<Figure size 576x396 with 1 Axes>"
      ]
     },
     "metadata": {},
     "output_type": "display_data"
    },
    {
     "name": "stdout",
     "output_type": "stream",
     "text": [
      "model2\n"
     ]
    },
    {
     "data": {
      "image/png": "[encoded data removed]",
      "text/plain": [
       "<Figure size 576x396 with 1 Axes>"
      ]
     },
     "metadata": {},
     "output_type": "display_data"
    }
   ],
   "source": [
    "# 1. How many number of clusters? n_clusters?\n",
    "\n",
    "# Since true labels are not known..we will Silhouette Coefficient (Clustering performance evaluation)\n",
    "# knee Elbow graph method\n",
    "\n",
    "#Import the KElbowVisualizer method\n",
    "from sklearn.cluster import KMeans\n",
    "from yellowbrick.cluster import KElbowVisualizer\n",
    "\n",
    "\n",
    "# Instantiate a scikit-learn K-Means model. we will check for two diff hyperparameters value effect.\n",
    "model1 = KMeans(random_state=0,n_jobs=-1,)\n",
    "model2 = KMeans(random_state=10, n_jobs=-1, max_iter=500, n_init=20,)\n",
    "\n",
    "# Instantiate the KElbowVisualizer with the number of clusters and the metric\n",
    "visualizer1 = KElbowVisualizer(model1, k=(2,10), metric='silhouette', timings=False)\n",
    "visualizer2 = KElbowVisualizer(model2, k=(2,10), metric='silhouette', timings=False)\n",
    "# Fit the data and visualize\n",
    "print('model1')\n",
    "visualizer1.fit(pca_std_df)    \n",
    "visualizer1.poof()\n",
    "plt.show()\n",
    "\n",
    "print('model2')\n",
    "visualizer2.fit(pca_std_df)    \n",
    "visualizer2.poof()\n",
    "plt.show()"
   ]
  },
  {
   "cell_type": "markdown",
   "metadata": {
    "papermill": {
     "duration": 0.081121,
     "end_time": "2020-10-20T15:28:12.497119",
     "exception": false,
     "start_time": "2020-10-20T15:28:12.415998",
     "status": "completed"
    },
    "tags": []
   },
   "source": [
    " #### Conclusion:\n",
    " \n",
    "* Since we don't know true labels so we have used silhoutte score method to determine good k numbers based on score.\n",
    "\n",
    "\n",
    "* Also it is proved that even if we feed data either PCA or scaled data outliers will always affect in kmeans clustering. Also when random_state value, max_iter number n_int chnaged the clustering numbers changed.\n",
    "\n",
    "\n",
    "* So before using KMeans clustering it is better to have discussion or decision on outliers."
   ]
  },
  {
   "cell_type": "markdown",
   "metadata": {
    "papermill": {
     "duration": 0.08062,
     "end_time": "2020-10-20T15:28:12.658862",
     "exception": false,
     "start_time": "2020-10-20T15:28:12.578242",
     "status": "completed"
    },
    "tags": []
   },
   "source": [
    " #### Method 2"
   ]
  },
  {
   "cell_type": "code",
   "execution_count": 16,
   "metadata": {
    "execution": {
     "iopub.execute_input": "2020-10-20T15:28:12.830971Z",
     "iopub.status.busy": "2020-10-20T15:28:12.830109Z",
     "iopub.status.idle": "2020-10-20T15:28:16.699219Z",
     "shell.execute_reply": "2020-10-20T15:28:16.698467Z"
    },
    "papermill": {
     "duration": 3.959652,
     "end_time": "2020-10-20T15:28:16.699384",
     "exception": false,
     "start_time": "2020-10-20T15:28:12.739732",
     "status": "completed"
    },
    "scrolled": true,
    "tags": []
   },
   "outputs": [
    {
     "name": "stdout",
     "output_type": "stream",
     "text": [
      "For n_clusters = 2 The average silhouette_score is : 0.3639788167896175\n",
      "For n_clusters = 3 The average silhouette_score is : 0.34038142310682834\n",
      "For n_clusters = 4 The average silhouette_score is : 0.33811895596476305\n",
      "For n_clusters = 5 The average silhouette_score is : 0.34885887029453005\n",
      "For n_clusters = 6 The average silhouette_score is : 0.3665724589453308\n",
      "For n_clusters = 7 The average silhouette_score is : 0.26773101005827354\n",
      "For n_clusters = 8 The average silhouette_score is : 0.28284236665851537\n",
      "For n_clusters = 9 The average silhouette_score is : 0.2708765675709241\n"
     ]
    }
   ],
   "source": [
    "from sklearn.metrics import silhouette_score\n",
    "\n",
    "list1= [2,3,4,5,6,7,8,9]  # always start number from 2.\n",
    "\n",
    "for n_clusters in list1:\n",
    "    clusterer1 = KMeans(n_clusters=n_clusters, random_state=0,n_jobs=-1)\n",
    "    cluster_labels1 = clusterer1.fit_predict(pca_std_df)\n",
    "    sil_score1= silhouette_score(pca_std_df, cluster_labels1)\n",
    "    print(\"For n_clusters =\", n_clusters,\"The average silhouette_score is :\", sil_score1)"
   ]
  },
  {
   "cell_type": "markdown",
   "metadata": {
    "papermill": {
     "duration": 0.084737,
     "end_time": "2020-10-20T15:28:16.869153",
     "exception": false,
     "start_time": "2020-10-20T15:28:16.784416",
     "status": "completed"
    },
    "tags": []
   },
   "source": [
    " #### Conclusion:\n",
    "    \n",
    " * By taking standardize data pca it gives number of cluster =6 with silhoette score = 0.36"
   ]
  },
  {
   "cell_type": "markdown",
   "metadata": {
    "papermill": {
     "duration": 0.085259,
     "end_time": "2020-10-20T15:28:17.039340",
     "exception": false,
     "start_time": "2020-10-20T15:28:16.954081",
     "status": "completed"
    },
    "tags": []
   },
   "source": [
    "##### Second Stage: Taking MinMaxScalar transformation data & PCA applied on it."
   ]
  },
  {
   "cell_type": "code",
   "execution_count": 17,
   "metadata": {
    "execution": {
     "iopub.execute_input": "2020-10-20T15:28:17.227550Z",
     "iopub.status.busy": "2020-10-20T15:28:17.226307Z",
     "iopub.status.idle": "2020-10-20T15:28:26.357375Z",
     "shell.execute_reply": "2020-10-20T15:28:26.358024Z"
    },
    "papermill": {
     "duration": 9.231896,
     "end_time": "2020-10-20T15:28:26.358237",
     "exception": false,
     "start_time": "2020-10-20T15:28:17.126341",
     "status": "completed"
    },
    "tags": []
   },
   "outputs": [
    {
     "name": "stdout",
     "output_type": "stream",
     "text": [
      "model3\n"
     ]
    },
    {
     "data": {
      "image/png": "[encoded data removed]",
      "text/plain": [
       "<Figure size 576x396 with 1 Axes>"
      ]
     },
     "metadata": {},
     "output_type": "display_data"
    },
    {
     "name": "stdout",
     "output_type": "stream",
     "text": [
      "model4\n"
     ]
    },
    {
     "data": {
      "image/png": "[encoded data removed]",
      "text/plain": [
       "<Figure size 576x396 with 1 Axes>"
      ]
     },
     "metadata": {},
     "output_type": "display_data"
    }
   ],
   "source": [
    "# 1. How many number of clusters? n_clusters?\n",
    "\n",
    "# Since true labels are not known..we will Silhouette Coefficient (Clustering performance evaluation)\n",
    "# knee Elbow graph method\n",
    "\n",
    "#Import the KElbowVisualizer method\n",
    "from sklearn.cluster import KMeans\n",
    "from yellowbrick.cluster import KElbowVisualizer\n",
    "\n",
    "\n",
    "# Instantiate a scikit-learn K-Means model. we will check for two diff hyperparameters value effect.\n",
    "model3 = KMeans(random_state=0,n_jobs=-1)\n",
    "model4 = KMeans(random_state=10, n_jobs=-1, max_iter=500, n_init=20)\n",
    "\n",
    "# Instantiate the KElbowVisualizer with the number of clusters and the metric\n",
    "visualizer3 = KElbowVisualizer(model3, k=(2,10), metric='silhouette', timings=False)\n",
    "visualizer4 = KElbowVisualizer(model4, k=(2,10), metric='silhouette', timings=False)\n",
    "# Fit the data and visualize\n",
    "print('model3')\n",
    "visualizer3.fit(pca_minmax_df)    \n",
    "visualizer3.poof()\n",
    "plt.show()\n",
    "\n",
    "print('model4')\n",
    "visualizer4.fit(pca_minmax_df)    \n",
    "visualizer4.poof()\n",
    "plt.show()"
   ]
  },
  {
   "cell_type": "markdown",
   "metadata": {
    "papermill": {
     "duration": 0.088715,
     "end_time": "2020-10-20T15:28:26.535963",
     "exception": false,
     "start_time": "2020-10-20T15:28:26.447248",
     "status": "completed"
    },
    "tags": []
   },
   "source": [
    " #### method2:"
   ]
  },
  {
   "cell_type": "code",
   "execution_count": 18,
   "metadata": {
    "execution": {
     "iopub.execute_input": "2020-10-20T15:28:26.725447Z",
     "iopub.status.busy": "2020-10-20T15:28:26.724581Z",
     "iopub.status.idle": "2020-10-20T15:28:31.142666Z",
     "shell.execute_reply": "2020-10-20T15:28:31.143263Z"
    },
    "papermill": {
     "duration": 4.516862,
     "end_time": "2020-10-20T15:28:31.143464",
     "exception": false,
     "start_time": "2020-10-20T15:28:26.626602",
     "status": "completed"
    },
    "tags": []
   },
   "outputs": [
    {
     "name": "stdout",
     "output_type": "stream",
     "text": [
      "For n_clusters = 2 The average silhouette_score is : 0.1476267446192011\n",
      "For n_clusters = 3 The average silhouette_score is : 0.1476267446192011\n",
      "For n_clusters = 4 The average silhouette_score is : 0.1476267446192011\n",
      "For n_clusters = 5 The average silhouette_score is : 0.1476267446192011\n",
      "For n_clusters = 6 The average silhouette_score is : 0.1476267446192011\n",
      "For n_clusters = 7 The average silhouette_score is : 0.1476267446192011\n",
      "For n_clusters = 8 The average silhouette_score is : 0.1476267446192011\n",
      "For n_clusters = 9 The average silhouette_score is : 0.1476267446192011\n"
     ]
    }
   ],
   "source": [
    "from sklearn.metrics import silhouette_score\n",
    "\n",
    "list1= [2,3,4,5,6,7,8,9]  # always start number from 2.\n",
    "\n",
    "for n_clusters in list1:\n",
    "    clusterer2 = KMeans(n_clusters=n_clusters, random_state=0,n_jobs=-1)\n",
    "    cluster_labels2 = clusterer1.fit_predict(pca_minmax_df)\n",
    "    sil_score2= silhouette_score(pca_std_df, cluster_labels2)\n",
    "    print(\"For n_clusters =\", n_clusters,\"The average silhouette_score is :\", sil_score2)"
   ]
  },
  {
   "cell_type": "markdown",
   "metadata": {
    "papermill": {
     "duration": 0.090526,
     "end_time": "2020-10-20T15:28:31.326679",
     "exception": false,
     "start_time": "2020-10-20T15:28:31.236153",
     "status": "completed"
    },
    "tags": []
   },
   "source": [
    "#### Conclusion:\n",
    "    \n",
    " * By taking pca_minmax_df data it gives minimum number of cluster =4 with silhoette score = 0.1476\n",
    " \n",
    " \n",
    " * If we check silhouette score with standardize data pca kmeans model 0.36>0.14 So we will PCA which is applied on normalizatied data. Since the score is very less. Best score alwways close to +1."
   ]
  },
  {
   "cell_type": "markdown",
   "metadata": {
    "papermill": {
     "duration": 0.09184,
     "end_time": "2020-10-20T15:28:31.509971",
     "exception": false,
     "start_time": "2020-10-20T15:28:31.418131",
     "status": "completed"
    },
    "tags": []
   },
   "source": [
    "## 5.1.2 Run K-Means:"
   ]
  },
  {
   "cell_type": "code",
   "execution_count": 19,
   "metadata": {
    "execution": {
     "iopub.execute_input": "2020-10-20T15:28:31.699566Z",
     "iopub.status.busy": "2020-10-20T15:28:31.698747Z",
     "iopub.status.idle": "2020-10-20T15:28:31.867606Z",
     "shell.execute_reply": "2020-10-20T15:28:31.868896Z"
    },
    "papermill": {
     "duration": 0.267922,
     "end_time": "2020-10-20T15:28:31.869122",
     "exception": false,
     "start_time": "2020-10-20T15:28:31.601200",
     "status": "completed"
    },
    "tags": []
   },
   "outputs": [
    {
     "data": {
      "text/plain": [
       "(3999,)"
      ]
     },
     "execution_count": 19,
     "metadata": {},
     "output_type": "execute_result"
    }
   ],
   "source": [
    "# we have found good number of cluster = 6\n",
    "# model building using cluster numbers = 6\n",
    "\n",
    "model1 = KMeans(n_clusters=6, random_state=0,n_jobs=-1)\n",
    "y_predict1 = model1.fit_predict(pca_std_df)\n",
    "y_predict1.shape"
   ]
  },
  {
   "cell_type": "code",
   "execution_count": 20,
   "metadata": {
    "execution": {
     "iopub.execute_input": "2020-10-20T15:28:32.099133Z",
     "iopub.status.busy": "2020-10-20T15:28:32.097978Z",
     "iopub.status.idle": "2020-10-20T15:28:32.104165Z",
     "shell.execute_reply": "2020-10-20T15:28:32.103309Z"
    },
    "papermill": {
     "duration": 0.120988,
     "end_time": "2020-10-20T15:28:32.104320",
     "exception": false,
     "start_time": "2020-10-20T15:28:31.983332",
     "status": "completed"
    },
    "tags": []
   },
   "outputs": [
    {
     "data": {
      "text/plain": [
       "array([1, 1, 1, ..., 1, 1, 1], dtype=int32)"
      ]
     },
     "execution_count": 20,
     "metadata": {},
     "output_type": "execute_result"
    }
   ],
   "source": [
    "# these are nothing but cluster labels...\n",
    "\n",
    "y_predict1"
   ]
  },
  {
   "cell_type": "code",
   "execution_count": 21,
   "metadata": {
    "execution": {
     "iopub.execute_input": "2020-10-20T15:28:32.299077Z",
     "iopub.status.busy": "2020-10-20T15:28:32.298064Z",
     "iopub.status.idle": "2020-10-20T15:28:32.303453Z",
     "shell.execute_reply": "2020-10-20T15:28:32.304118Z"
    },
    "papermill": {
     "duration": 0.106441,
     "end_time": "2020-10-20T15:28:32.304313",
     "exception": false,
     "start_time": "2020-10-20T15:28:32.197872",
     "status": "completed"
    },
    "tags": []
   },
   "outputs": [
    {
     "data": {
      "text/plain": [
       "array([1, 1, 1, ..., 1, 1, 1], dtype=int32)"
      ]
     },
     "execution_count": 21,
     "metadata": {},
     "output_type": "execute_result"
    }
   ],
   "source": [
    "# y_predict & cluster labels both are same use any one of them to avoid further confusion.\n",
    "\n",
    "model1.labels_"
   ]
  },
  {
   "cell_type": "code",
   "execution_count": 22,
   "metadata": {
    "execution": {
     "iopub.execute_input": "2020-10-20T15:28:32.500410Z",
     "iopub.status.busy": "2020-10-20T15:28:32.499539Z",
     "iopub.status.idle": "2020-10-20T15:28:32.504275Z",
     "shell.execute_reply": "2020-10-20T15:28:32.503493Z"
    },
    "papermill": {
     "duration": 0.105613,
     "end_time": "2020-10-20T15:28:32.504417",
     "exception": false,
     "start_time": "2020-10-20T15:28:32.398804",
     "status": "completed"
    },
    "tags": []
   },
   "outputs": [
    {
     "data": {
      "text/plain": [
       "array([[ 1.40946275e+00, -1.01129248e+00, -8.23843161e-02,\n",
       "         9.86412993e-02, -2.56008051e-01, -2.43931657e-01,\n",
       "        -7.40640231e-02, -1.43349830e-02],\n",
       "       [-1.03618281e+00,  2.58724341e-01, -1.45470873e-02,\n",
       "        -8.64531845e-02, -5.37230371e-02,  1.37714954e-01,\n",
       "         5.73121640e-02, -2.18692957e-03],\n",
       "       [ 4.25165028e+00,  4.10908160e+00,  1.48662899e-01,\n",
       "        -2.15415252e-01, -6.18448771e-01,  4.99526780e-01,\n",
       "        -5.24799096e-02,  1.44221559e-01],\n",
       "       [ 1.00930830e+00,  1.64553073e+00, -3.00204858e+00,\n",
       "        -1.50525621e+00,  4.87613963e+00, -2.83327858e+00,\n",
       "        -8.15524057e-01, -2.42368955e-02],\n",
       "       [ 4.76675141e-02,  1.06794180e+00,  3.90187367e+00,\n",
       "         7.28531492e+00,  3.55053601e+00, -6.82561937e-01,\n",
       "         2.01781543e-01,  2.39276034e-01],\n",
       "       [ 4.35245436e+00, -3.63296061e+00,  8.67825558e+00,\n",
       "        -7.27101378e+00,  7.22379804e+00,  6.82996771e+00,\n",
       "         1.09780252e-01, -3.57742407e-01]])"
      ]
     },
     "execution_count": 22,
     "metadata": {},
     "output_type": "execute_result"
    }
   ],
   "source": [
    "# cluster centres associated with each lables\n",
    "\n",
    "model1.cluster_centers_"
   ]
  },
  {
   "cell_type": "code",
   "execution_count": 23,
   "metadata": {
    "execution": {
     "iopub.execute_input": "2020-10-20T15:28:32.701867Z",
     "iopub.status.busy": "2020-10-20T15:28:32.700964Z",
     "iopub.status.idle": "2020-10-20T15:28:32.706374Z",
     "shell.execute_reply": "2020-10-20T15:28:32.705713Z"
    },
    "papermill": {
     "duration": 0.105065,
     "end_time": "2020-10-20T15:28:32.706519",
     "exception": false,
     "start_time": "2020-10-20T15:28:32.601454",
     "status": "completed"
    },
    "tags": []
   },
   "outputs": [
    {
     "data": {
      "text/plain": [
       "16718.396765236546"
      ]
     },
     "execution_count": 23,
     "metadata": {},
     "output_type": "execute_result"
    }
   ],
   "source": [
    "# within-cluster sum of squared\n",
    "\n",
    "# The lower values of inertia are better and zero is optimal.\n",
    "# Inertia is the sum of squared error for each cluster. \n",
    "# Therefore the smaller the inertia the denser the cluster(closer together all the points are)\n",
    "\n",
    "model1.inertia_"
   ]
  },
  {
   "cell_type": "code",
   "execution_count": 24,
   "metadata": {
    "execution": {
     "iopub.execute_input": "2020-10-20T15:28:32.904600Z",
     "iopub.status.busy": "2020-10-20T15:28:32.903410Z",
     "iopub.status.idle": "2020-10-20T15:28:32.912248Z",
     "shell.execute_reply": "2020-10-20T15:28:32.911612Z"
    },
    "papermill": {
     "duration": 0.110844,
     "end_time": "2020-10-20T15:28:32.912401",
     "exception": false,
     "start_time": "2020-10-20T15:28:32.801557",
     "status": "completed"
    },
    "tags": []
   },
   "outputs": [
    {
     "data": {
      "text/plain": [
       "-16718.396765236546"
      ]
     },
     "execution_count": 24,
     "metadata": {},
     "output_type": "execute_result"
    }
   ],
   "source": [
    "model1.score(pca_std_df) \n",
    "\n",
    "# it is opposite value of sum of squared value..avoid to use it. It is bit confusing"
   ]
  },
  {
   "cell_type": "code",
   "execution_count": 25,
   "metadata": {
    "execution": {
     "iopub.execute_input": "2020-10-20T15:28:33.141818Z",
     "iopub.status.busy": "2020-10-20T15:28:33.140618Z",
     "iopub.status.idle": "2020-10-20T15:28:33.145894Z",
     "shell.execute_reply": "2020-10-20T15:28:33.145117Z"
    },
    "papermill": {
     "duration": 0.118876,
     "end_time": "2020-10-20T15:28:33.146092",
     "exception": false,
     "start_time": "2020-10-20T15:28:33.027216",
     "status": "completed"
    },
    "tags": []
   },
   "outputs": [
    {
     "data": {
      "text/plain": [
       "{'algorithm': 'auto',\n",
       " 'copy_x': True,\n",
       " 'init': 'k-means++',\n",
       " 'max_iter': 300,\n",
       " 'n_clusters': 6,\n",
       " 'n_init': 10,\n",
       " 'n_jobs': -1,\n",
       " 'precompute_distances': 'deprecated',\n",
       " 'random_state': 0,\n",
       " 'tol': 0.0001,\n",
       " 'verbose': 0}"
      ]
     },
     "execution_count": 25,
     "metadata": {},
     "output_type": "execute_result"
    }
   ],
   "source": [
    "# this will give what hyper parameter is used in model.\n",
    "\n",
    "\n",
    "model1.get_params()"
   ]
  },
  {
   "cell_type": "markdown",
   "metadata": {
    "papermill": {
     "duration": 0.101472,
     "end_time": "2020-10-20T15:28:33.362014",
     "exception": false,
     "start_time": "2020-10-20T15:28:33.260542",
     "status": "completed"
    },
    "tags": []
   },
   "source": [
    "## 5.1.3 visualizing silhoutte score..for different cluster"
   ]
  },
  {
   "cell_type": "code",
   "execution_count": 26,
   "metadata": {
    "execution": {
     "iopub.execute_input": "2020-10-20T15:28:33.600421Z",
     "iopub.status.busy": "2020-10-20T15:28:33.590503Z",
     "iopub.status.idle": "2020-10-20T15:28:34.807845Z",
     "shell.execute_reply": "2020-10-20T15:28:34.807155Z"
    },
    "papermill": {
     "duration": 1.340949,
     "end_time": "2020-10-20T15:28:34.807987",
     "exception": false,
     "start_time": "2020-10-20T15:28:33.467038",
     "status": "completed"
    },
    "tags": []
   },
   "outputs": [
    {
     "data": {
      "image/png": "[encoded data removed]",
      "text/plain": [
       "<Figure size 1080x432 with 2 Axes>"
      ]
     },
     "metadata": {},
     "output_type": "display_data"
    }
   ],
   "source": [
    "from yellowbrick.cluster import SilhouetteVisualizer\n",
    "\n",
    "fig,(ax1,ax2) = plt.subplots(1,2,sharey=False)\n",
    "fig.set_size_inches(15,6)\n",
    "\n",
    "\n",
    "\n",
    "sil_visualizer1 = SilhouetteVisualizer(model1,ax= ax1, colors=['#922B21','#5B2C6F','#1B4F72','#32a84a','#a83232','#323aa8'])\n",
    "sil_visualizer1.fit(pca_std_df)\n",
    "\n",
    "\n",
    "# 2nd Plot showing the actual clusters formed\n",
    "\n",
    "import matplotlib.cm as cm\n",
    "colors1 = cm.nipy_spectral(model1.labels_.astype(float) / 6) # 6 is number of clusters\n",
    "ax2.scatter(pca_std_df[:, 0], pca_std_df[:, 1], marker='.', s=30, lw=0, alpha=0.7,\n",
    "                c=colors1, edgecolor='k')\n",
    "\n",
    "# Labeling the clusters\n",
    "centers1 = model1.cluster_centers_\n",
    "# Draw white circles at cluster centers\n",
    "ax2.scatter(centers1[:, 0], centers1[:, 1], marker='o',c=\"white\", alpha=1, s=200, edgecolor='k')\n",
    "\n",
    "for i, c in enumerate(centers1):\n",
    "    ax2.scatter(c[0], c[1], marker='$%d$' % i, alpha=1,s=50, edgecolor='k')\n",
    "\n",
    "\n",
    "ax2.set_title(label =\"The visualization of the clustered data.\")\n",
    "ax2.set_xlabel(\"Feature space for the 1st feature\")\n",
    "ax2.set_ylabel(\"Feature space for the 2nd feature\")\n",
    "\n",
    "plt.suptitle((\"Silhouette analysis for KMeans clustering on sample data \"\n",
    "                  \"with n_clusters = %d\" % 6),fontsize=14, fontweight='bold')\n",
    "\n",
    "sil_visualizer1.show()\n",
    "plt.show()\n"
   ]
  },
  {
   "cell_type": "markdown",
   "metadata": {
    "papermill": {
     "duration": 0.105322,
     "end_time": "2020-10-20T15:28:35.018432",
     "exception": false,
     "start_time": "2020-10-20T15:28:34.913110",
     "status": "completed"
    },
    "tags": []
   },
   "source": [
    "## 5.1.4 Putting Cluster lables into original dataset And analysis of the same."
   ]
  },
  {
   "cell_type": "code",
   "execution_count": 27,
   "metadata": {
    "execution": {
     "iopub.execute_input": "2020-10-20T15:28:35.239516Z",
     "iopub.status.busy": "2020-10-20T15:28:35.238697Z",
     "iopub.status.idle": "2020-10-20T15:28:35.243246Z",
     "shell.execute_reply": "2020-10-20T15:28:35.242343Z"
    },
    "papermill": {
     "duration": 0.116991,
     "end_time": "2020-10-20T15:28:35.243395",
     "exception": false,
     "start_time": "2020-10-20T15:28:35.126404",
     "status": "completed"
    },
    "tags": []
   },
   "outputs": [],
   "source": [
    "# Creating dataframe of cluster lables..\n",
    "\n",
    "model1_cluster = pd.DataFrame(model1.labels_.copy(), columns=['Kmeans_Clustering'])"
   ]
  },
  {
   "cell_type": "code",
   "execution_count": 28,
   "metadata": {
    "execution": {
     "iopub.execute_input": "2020-10-20T15:28:35.472120Z",
     "iopub.status.busy": "2020-10-20T15:28:35.460247Z",
     "iopub.status.idle": "2020-10-20T15:28:35.477525Z",
     "shell.execute_reply": "2020-10-20T15:28:35.476887Z"
    },
    "papermill": {
     "duration": 0.12746,
     "end_time": "2020-10-20T15:28:35.477674",
     "exception": false,
     "start_time": "2020-10-20T15:28:35.350214",
     "status": "completed"
    },
    "tags": []
   },
   "outputs": [
    {
     "data": {
      "text/html": [
       "<div>\n",
       "<style scoped>\n",
       "    .dataframe tbody tr th:only-of-type {\n",
       "        vertical-align: middle;\n",
       "    }\n",
       "\n",
       "    .dataframe tbody tr th {\n",
       "        vertical-align: top;\n",
       "    }\n",
       "\n",
       "    .dataframe thead th {\n",
       "        text-align: right;\n",
       "    }\n",
       "</style>\n",
       "<table border=\"1\" class=\"dataframe\">\n",
       "  <thead>\n",
       "    <tr style=\"text-align: right;\">\n",
       "      <th></th>\n",
       "      <th>ID</th>\n",
       "      <th>Balance</th>\n",
       "      <th>Qual_miles</th>\n",
       "      <th>cc1_miles</th>\n",
       "      <th>cc2_miles</th>\n",
       "      <th>cc3_miles</th>\n",
       "      <th>Bonus_miles</th>\n",
       "      <th>Bonus_trans</th>\n",
       "      <th>Flight_miles_12mo</th>\n",
       "      <th>Flight_trans_12</th>\n",
       "      <th>Days_since_enroll</th>\n",
       "      <th>Award</th>\n",
       "      <th>Kmeans_Clustering</th>\n",
       "    </tr>\n",
       "  </thead>\n",
       "  <tbody>\n",
       "    <tr>\n",
       "      <th>0</th>\n",
       "      <td>1</td>\n",
       "      <td>28143</td>\n",
       "      <td>0</td>\n",
       "      <td>1</td>\n",
       "      <td>1</td>\n",
       "      <td>1</td>\n",
       "      <td>174</td>\n",
       "      <td>1</td>\n",
       "      <td>0</td>\n",
       "      <td>0</td>\n",
       "      <td>7000</td>\n",
       "      <td>0</td>\n",
       "      <td>1</td>\n",
       "    </tr>\n",
       "    <tr>\n",
       "      <th>1</th>\n",
       "      <td>2</td>\n",
       "      <td>19244</td>\n",
       "      <td>0</td>\n",
       "      <td>1</td>\n",
       "      <td>1</td>\n",
       "      <td>1</td>\n",
       "      <td>215</td>\n",
       "      <td>2</td>\n",
       "      <td>0</td>\n",
       "      <td>0</td>\n",
       "      <td>6968</td>\n",
       "      <td>0</td>\n",
       "      <td>1</td>\n",
       "    </tr>\n",
       "    <tr>\n",
       "      <th>2</th>\n",
       "      <td>3</td>\n",
       "      <td>41354</td>\n",
       "      <td>0</td>\n",
       "      <td>1</td>\n",
       "      <td>1</td>\n",
       "      <td>1</td>\n",
       "      <td>4123</td>\n",
       "      <td>4</td>\n",
       "      <td>0</td>\n",
       "      <td>0</td>\n",
       "      <td>7034</td>\n",
       "      <td>0</td>\n",
       "      <td>1</td>\n",
       "    </tr>\n",
       "    <tr>\n",
       "      <th>3</th>\n",
       "      <td>4</td>\n",
       "      <td>14776</td>\n",
       "      <td>0</td>\n",
       "      <td>1</td>\n",
       "      <td>1</td>\n",
       "      <td>1</td>\n",
       "      <td>500</td>\n",
       "      <td>1</td>\n",
       "      <td>0</td>\n",
       "      <td>0</td>\n",
       "      <td>6952</td>\n",
       "      <td>0</td>\n",
       "      <td>1</td>\n",
       "    </tr>\n",
       "    <tr>\n",
       "      <th>4</th>\n",
       "      <td>5</td>\n",
       "      <td>97752</td>\n",
       "      <td>0</td>\n",
       "      <td>4</td>\n",
       "      <td>1</td>\n",
       "      <td>1</td>\n",
       "      <td>43300</td>\n",
       "      <td>26</td>\n",
       "      <td>2077</td>\n",
       "      <td>4</td>\n",
       "      <td>6935</td>\n",
       "      <td>1</td>\n",
       "      <td>0</td>\n",
       "    </tr>\n",
       "  </tbody>\n",
       "</table>\n",
       "</div>"
      ],
      "text/plain": [
       "   ID  Balance  Qual_miles  cc1_miles  cc2_miles  cc3_miles  Bonus_miles  \\\n",
       "0   1    28143           0          1          1          1          174   \n",
       "1   2    19244           0          1          1          1          215   \n",
       "2   3    41354           0          1          1          1         4123   \n",
       "3   4    14776           0          1          1          1          500   \n",
       "4   5    97752           0          4          1          1        43300   \n",
       "\n",
       "   Bonus_trans  Flight_miles_12mo  Flight_trans_12  Days_since_enroll  Award  \\\n",
       "0            1                  0                0               7000      0   \n",
       "1            2                  0                0               6968      0   \n",
       "2            4                  0                0               7034      0   \n",
       "3            1                  0                0               6952      0   \n",
       "4           26               2077                4               6935      1   \n",
       "\n",
       "   Kmeans_Clustering  \n",
       "0                  1  \n",
       "1                  1  \n",
       "2                  1  \n",
       "3                  1  \n",
       "4                  0  "
      ]
     },
     "execution_count": 28,
     "metadata": {},
     "output_type": "execute_result"
    }
   ],
   "source": [
    "# Concating model1_Cluster df with main dataset copy\n",
    "\n",
    "Kmeans_df = pd.concat([dataset.copy(), model1_cluster], axis=1)\n",
    "Kmeans_df.head()"
   ]
  },
  {
   "cell_type": "code",
   "execution_count": 29,
   "metadata": {
    "execution": {
     "iopub.execute_input": "2020-10-20T15:28:35.695393Z",
     "iopub.status.busy": "2020-10-20T15:28:35.686162Z",
     "iopub.status.idle": "2020-10-20T15:28:35.894001Z",
     "shell.execute_reply": "2020-10-20T15:28:35.893356Z"
    },
    "papermill": {
     "duration": 0.316614,
     "end_time": "2020-10-20T15:28:35.894153",
     "exception": false,
     "start_time": "2020-10-20T15:28:35.577539",
     "status": "completed"
    },
    "scrolled": false,
    "tags": []
   },
   "outputs": [
    {
     "data": {
      "image/png": "[encoded data removed]",
      "text/plain": [
       "<Figure size 720x432 with 1 Axes>"
      ]
     },
     "metadata": {},
     "output_type": "display_data"
    }
   ],
   "source": [
    "# Plotting barplot using groupby method to get visualize how many row no. in each cluster\n",
    "\n",
    "fig, ax = plt.subplots(figsize=(10, 6))\n",
    "Kmeans_df.groupby(['Kmeans_Clustering']).count()['ID'].plot(kind='bar')\n",
    "plt.ylabel('ID Counts')\n",
    "plt.title('Kmeans Clustering (pca_std_df)',fontsize='large',fontweight='bold')\n",
    "ax.set_xlabel('Clusters', fontsize='large', fontweight='bold')\n",
    "ax.set_ylabel('ID counts', fontsize='large', fontweight='bold')\n",
    "plt.yticks(fontsize=15)\n",
    "plt.xticks(fontsize=15)\n",
    "plt.show()"
   ]
  },
  {
   "cell_type": "markdown",
   "metadata": {
    "papermill": {
     "duration": 0.102883,
     "end_time": "2020-10-20T15:28:36.097998",
     "exception": false,
     "start_time": "2020-10-20T15:28:35.995115",
     "status": "completed"
    },
    "tags": []
   },
   "source": [
    "# Step 6: Hierarchical Clustering Algorithm"
   ]
  },
  {
   "cell_type": "markdown",
   "metadata": {
    "papermill": {
     "duration": 0.102046,
     "end_time": "2020-10-20T15:28:36.302716",
     "exception": false,
     "start_time": "2020-10-20T15:28:36.200670",
     "status": "completed"
    },
    "tags": []
   },
   "source": [
    "<p align='justify'> The key operation in hierarchical agglomerative clustering is to repeatedly combine the two nearest clusters into a larger cluster. There are three key questions that need to be answered first: </p>"
   ]
  },
  {
   "cell_type": "markdown",
   "metadata": {
    "papermill": {
     "duration": 0.100423,
     "end_time": "2020-10-20T15:28:36.503568",
     "exception": false,
     "start_time": "2020-10-20T15:28:36.403145",
     "status": "completed"
    },
    "tags": []
   },
   "source": [
    "[Hierarchical Clustering Sklearn](https://scikit-learn.org/stable/modules/generated/sklearn.cluster.AgglomerativeClustering.html)"
   ]
  },
  {
   "cell_type": "markdown",
   "metadata": {
    "papermill": {
     "duration": 0.101,
     "end_time": "2020-10-20T15:28:36.705163",
     "exception": false,
     "start_time": "2020-10-20T15:28:36.604163",
     "status": "completed"
    },
    "tags": []
   },
   "source": [
    "## 6.1 How many numbers of cluster. Also deciding which transformation data we will use to build model."
   ]
  },
  {
   "cell_type": "markdown",
   "metadata": {
    "papermill": {
     "duration": 0.099807,
     "end_time": "2020-10-20T15:28:36.905083",
     "exception": false,
     "start_time": "2020-10-20T15:28:36.805276",
     "status": "completed"
    },
    "tags": []
   },
   "source": [
    " Qiuck Notes: \n",
    "\n",
    "linkage{“ward”, “complete”, “average”, “single”}, default=”ward”\n",
    "Which linkage criterion to use. The linkage criterion determines which distance to use between sets of observation. The algorithm will merge the pairs of cluster that minimize this criterion.\n",
    "\n",
    "* ward minimizes the variance of the clusters being merged.\n",
    "\n",
    "* average uses the average of the distances of each observation of the two sets.\n",
    "\n",
    "* complete or maximum linkage uses the maximum distances between all observations of the two sets.\n",
    "\n",
    "* single uses the minimum of the distances between all observations of the two sets."
   ]
  },
  {
   "cell_type": "markdown",
   "metadata": {
    "papermill": {
     "duration": 0.099999,
     "end_time": "2020-10-20T15:28:37.105965",
     "exception": false,
     "start_time": "2020-10-20T15:28:37.005966",
     "status": "completed"
    },
    "tags": []
   },
   "source": [
    "##### First Stage: Taking stadardization transformation data & PCA applied on it.\n",
    "***"
   ]
  },
  {
   "cell_type": "markdown",
   "metadata": {
    "papermill": {
     "duration": 0.102322,
     "end_time": "2020-10-20T15:28:37.309453",
     "exception": false,
     "start_time": "2020-10-20T15:28:37.207131",
     "status": "completed"
    },
    "tags": []
   },
   "source": [
    " #### Method1: By using Dendrogram"
   ]
  },
  {
   "cell_type": "code",
   "execution_count": 30,
   "metadata": {
    "execution": {
     "iopub.execute_input": "2020-10-20T15:28:37.515897Z",
     "iopub.status.busy": "2020-10-20T15:28:37.515133Z",
     "iopub.status.idle": "2020-10-20T15:28:37.518705Z",
     "shell.execute_reply": "2020-10-20T15:28:37.517976Z"
    },
    "papermill": {
     "duration": 0.108722,
     "end_time": "2020-10-20T15:28:37.518832",
     "exception": false,
     "start_time": "2020-10-20T15:28:37.410110",
     "status": "completed"
    },
    "scrolled": false,
    "tags": []
   },
   "outputs": [],
   "source": [
    "# Applying Dendrogram on PCA data. Or you may apply it on Standardized/normalized indepedent variable data.\n",
    "# Here diffrent linkage method from hyperparameter is used to see diff between methods for understanding. \n",
    "# Ward method is commanly used since it is simpler to visualize understanding.\n",
    "# Find number of cluster's using color coding of dendrogram. Each color indicates one cluster.\n",
    "\n",
    "# import scipy.cluster.hierarchy as shc\n",
    "# for methods in ['single','complete','average','weighted','centroid','median','ward']: \n",
    "#     plt.figure(figsize =(20, 6)) \n",
    "    \n",
    "#     dict = {'fontsize':24,'fontweight' :16, 'color' : 'blue'}\n",
    "    \n",
    "#     plt.title('Visualising the data, Method- {}'.format(methods),fontdict = dict) \n",
    "#     Dendrogram1 = shc.dendrogram(shc.linkage(pca_std_df, method = methods,optimal_ordering=False))\n",
    "    \n",
    "# Note: the execution of this cell takes time so i have attached output graphs below"
   ]
  },
  {
   "cell_type": "markdown",
   "metadata": {
    "papermill": {
     "duration": 0.099873,
     "end_time": "2020-10-20T15:28:37.719817",
     "exception": false,
     "start_time": "2020-10-20T15:28:37.619944",
     "status": "completed"
    },
    "tags": []
   },
   "source": [
    "![](https://github.com/ShrikantUppin/Clustering/blob/main/dendro1_single.png?raw=true)"
   ]
  },
  {
   "cell_type": "markdown",
   "metadata": {
    "papermill": {
     "duration": 0.099592,
     "end_time": "2020-10-20T15:28:37.919691",
     "exception": false,
     "start_time": "2020-10-20T15:28:37.820099",
     "status": "completed"
    },
    "tags": []
   },
   "source": [
    "![](https://github.com/ShrikantUppin/Clustering/blob/main/dendro1_complete.png?raw=true)"
   ]
  },
  {
   "cell_type": "markdown",
   "metadata": {
    "papermill": {
     "duration": 0.101571,
     "end_time": "2020-10-20T15:28:38.124086",
     "exception": false,
     "start_time": "2020-10-20T15:28:38.022515",
     "status": "completed"
    },
    "tags": []
   },
   "source": [
    "![](https://github.com/ShrikantUppin/Clustering/blob/main/dendro1_average.png?raw=true)"
   ]
  },
  {
   "cell_type": "markdown",
   "metadata": {
    "papermill": {
     "duration": 0.100516,
     "end_time": "2020-10-20T15:28:38.326281",
     "exception": false,
     "start_time": "2020-10-20T15:28:38.225765",
     "status": "completed"
    },
    "tags": []
   },
   "source": [
    "![](https://github.com/ShrikantUppin/Clustering/blob/main/dendr1_weighted.png?raw=true)"
   ]
  },
  {
   "cell_type": "markdown",
   "metadata": {
    "papermill": {
     "duration": 0.099505,
     "end_time": "2020-10-20T15:28:38.526382",
     "exception": false,
     "start_time": "2020-10-20T15:28:38.426877",
     "status": "completed"
    },
    "tags": []
   },
   "source": [
    "![](https://github.com/ShrikantUppin/Clustering/blob/main/dendrogram1.png?raw=true)"
   ]
  },
  {
   "cell_type": "markdown",
   "metadata": {
    "papermill": {
     "duration": 0.099968,
     "end_time": "2020-10-20T15:28:38.727835",
     "exception": false,
     "start_time": "2020-10-20T15:28:38.627867",
     "status": "completed"
    },
    "tags": []
   },
   "source": [
    "![](https://github.com/ShrikantUppin/Clustering/blob/main/dendro1_median.png?raw=true)"
   ]
  },
  {
   "cell_type": "markdown",
   "metadata": {
    "papermill": {
     "duration": 0.099408,
     "end_time": "2020-10-20T15:28:38.927297",
     "exception": false,
     "start_time": "2020-10-20T15:28:38.827889",
     "status": "completed"
    },
    "tags": []
   },
   "source": [
    "![](https://github.com/ShrikantUppin/Clustering/blob/main/dendro1_ward.png?raw=true)"
   ]
  },
  {
   "cell_type": "markdown",
   "metadata": {
    "papermill": {
     "duration": 0.099864,
     "end_time": "2020-10-20T15:28:39.128376",
     "exception": false,
     "start_time": "2020-10-20T15:28:39.028512",
     "status": "completed"
    },
    "tags": []
   },
   "source": [
    " #### Method 2: Silhouette Score method."
   ]
  },
  {
   "cell_type": "code",
   "execution_count": 31,
   "metadata": {
    "execution": {
     "iopub.execute_input": "2020-10-20T15:28:39.341846Z",
     "iopub.status.busy": "2020-10-20T15:28:39.340958Z",
     "iopub.status.idle": "2020-10-20T15:29:00.936129Z",
     "shell.execute_reply": "2020-10-20T15:29:00.935169Z"
    },
    "papermill": {
     "duration": 21.706689,
     "end_time": "2020-10-20T15:29:00.936285",
     "exception": false,
     "start_time": "2020-10-20T15:28:39.229596",
     "status": "completed"
    },
    "tags": []
   },
   "outputs": [
    {
     "name": "stdout",
     "output_type": "stream",
     "text": [
      "For n_clusters = 2 The average silhouette_score with linkage- ward : 0.3139605594950567\n",
      "For n_clusters = 2 The average silhouette_score with linkage- complete : 0.8258402005485834\n",
      "For n_clusters = 2 The average silhouette_score with linkage- average : 0.8258402005485834\n",
      "For n_clusters = 2 The average silhouette_score with linkage- single : 0.7595573832017466\n",
      "\n",
      "For n_clusters = 3 The average silhouette_score with linkage- ward : 0.3099513555846735\n",
      "For n_clusters = 3 The average silhouette_score with linkage- complete : 0.7965798717740988\n",
      "For n_clusters = 3 The average silhouette_score with linkage- average : 0.7965798717740988\n",
      "For n_clusters = 3 The average silhouette_score with linkage- single : 0.7592925058168967\n",
      "\n",
      "For n_clusters = 4 The average silhouette_score with linkage- ward : 0.3282481973781311\n",
      "For n_clusters = 4 The average silhouette_score with linkage- complete : 0.6569044547102614\n",
      "For n_clusters = 4 The average silhouette_score with linkage- average : 0.6940154925011897\n",
      "For n_clusters = 4 The average silhouette_score with linkage- single : 0.5782302910327523\n",
      "\n",
      "For n_clusters = 5 The average silhouette_score with linkage- ward : 0.3218497682247797\n",
      "For n_clusters = 5 The average silhouette_score with linkage- complete : 0.5895211202883035\n",
      "For n_clusters = 5 The average silhouette_score with linkage- average : 0.6680397435345209\n",
      "For n_clusters = 5 The average silhouette_score with linkage- single : 0.5780925797482983\n",
      "\n",
      "For n_clusters = 6 The average silhouette_score with linkage- ward : 0.3365729455802158\n",
      "For n_clusters = 6 The average silhouette_score with linkage- complete : 0.6017997132632824\n",
      "For n_clusters = 6 The average silhouette_score with linkage- average : 0.6552479417757123\n",
      "For n_clusters = 6 The average silhouette_score with linkage- single : 0.5766100945284393\n",
      "\n",
      "For n_clusters = 7 The average silhouette_score with linkage- ward : 0.23686100392100004\n",
      "For n_clusters = 7 The average silhouette_score with linkage- complete : 0.6070381387662968\n",
      "For n_clusters = 7 The average silhouette_score with linkage- average : 0.6523313170802647\n",
      "For n_clusters = 7 The average silhouette_score with linkage- single : 0.5774252640782925\n",
      "\n",
      "For n_clusters = 8 The average silhouette_score with linkage- ward : 0.23276462445078655\n",
      "For n_clusters = 8 The average silhouette_score with linkage- complete : 0.6026762863226718\n",
      "For n_clusters = 8 The average silhouette_score with linkage- average : 0.6481701789160177\n",
      "For n_clusters = 8 The average silhouette_score with linkage- single : 0.5741494479569035\n",
      "\n"
     ]
    }
   ],
   "source": [
    "from sklearn.cluster import AgglomerativeClustering\n",
    "n_clusters = [2,3,4,5,6,7,8]  # always start number from 2.\n",
    "\n",
    "for n_clusters in n_clusters:\n",
    "    for linkages in [\"ward\", \"complete\", \"average\", \"single\"]:\n",
    "        hie_cluster1 = AgglomerativeClustering(n_clusters=n_clusters,linkage=linkages) # bydefault it takes linkage 'ward'\n",
    "        hie_labels1 = hie_cluster1.fit_predict(pca_std_df)\n",
    "        silhouette_score1 = silhouette_score(pca_std_df, hie_labels1)\n",
    "        print(\"For n_clusters =\", n_clusters,\"The average silhouette_score with linkage-\",linkages, ':',silhouette_score1)\n",
    "    print()\n"
   ]
  },
  {
   "cell_type": "markdown",
   "metadata": {
    "papermill": {
     "duration": 0.111508,
     "end_time": "2020-10-20T15:29:01.164340",
     "exception": false,
     "start_time": "2020-10-20T15:29:01.052832",
     "status": "completed"
    },
    "tags": []
   },
   "source": [
    " Conclusion: Although max score is with cluster numbers 4. I have selected tcluster number = 5"
   ]
  },
  {
   "cell_type": "markdown",
   "metadata": {
    "papermill": {
     "duration": 0.113319,
     "end_time": "2020-10-20T15:29:01.390951",
     "exception": false,
     "start_time": "2020-10-20T15:29:01.277632",
     "status": "completed"
    },
    "tags": []
   },
   "source": [
    "##### Second Stage: Taking MinMax transformation data & PCA applied on it.\n",
    "***"
   ]
  },
  {
   "cell_type": "code",
   "execution_count": 32,
   "metadata": {
    "execution": {
     "iopub.execute_input": "2020-10-20T15:29:01.636589Z",
     "iopub.status.busy": "2020-10-20T15:29:01.635384Z",
     "iopub.status.idle": "2020-10-20T15:29:01.639940Z",
     "shell.execute_reply": "2020-10-20T15:29:01.639201Z"
    },
    "papermill": {
     "duration": 0.136695,
     "end_time": "2020-10-20T15:29:01.640101",
     "exception": false,
     "start_time": "2020-10-20T15:29:01.503406",
     "status": "completed"
    },
    "tags": []
   },
   "outputs": [],
   "source": [
    " ### Here i have avoded to apply dendrogram since it takes time to run code."
   ]
  },
  {
   "cell_type": "code",
   "execution_count": 33,
   "metadata": {
    "execution": {
     "iopub.execute_input": "2020-10-20T15:29:01.892392Z",
     "iopub.status.busy": "2020-10-20T15:29:01.891178Z",
     "iopub.status.idle": "2020-10-20T15:29:21.851539Z",
     "shell.execute_reply": "2020-10-20T15:29:21.850618Z"
    },
    "papermill": {
     "duration": 20.082193,
     "end_time": "2020-10-20T15:29:21.851723",
     "exception": false,
     "start_time": "2020-10-20T15:29:01.769530",
     "status": "completed"
    },
    "tags": []
   },
   "outputs": [
    {
     "name": "stdout",
     "output_type": "stream",
     "text": [
      "For n_clusters = 2 The average silhouette_score with linkage- ward : 0.45263516644787427\n",
      "For n_clusters = 2 The average silhouette_score with linkage- complete : 0.5857808960475936\n",
      "For n_clusters = 2 The average silhouette_score with linkage- average : 0.5003973034034863\n",
      "For n_clusters = 2 The average silhouette_score with linkage- single : 0.6061073734453644\n",
      "\n",
      "For n_clusters = 3 The average silhouette_score with linkage- ward : 0.3739125364654645\n",
      "For n_clusters = 3 The average silhouette_score with linkage- complete : 0.4542833655116024\n",
      "For n_clusters = 3 The average silhouette_score with linkage- average : 0.45064261018788865\n",
      "For n_clusters = 3 The average silhouette_score with linkage- single : 0.5029366855064072\n",
      "\n",
      "For n_clusters = 4 The average silhouette_score with linkage- ward : 0.36547786997315546\n",
      "For n_clusters = 4 The average silhouette_score with linkage- complete : 0.4561547100712364\n",
      "For n_clusters = 4 The average silhouette_score with linkage- average : 0.3946568858456751\n",
      "For n_clusters = 4 The average silhouette_score with linkage- single : 0.28360363211949013\n",
      "\n",
      "For n_clusters = 5 The average silhouette_score with linkage- ward : 0.3581084898031202\n",
      "For n_clusters = 5 The average silhouette_score with linkage- complete : 0.44080540269805196\n",
      "For n_clusters = 5 The average silhouette_score with linkage- average : 0.34750893605764976\n",
      "For n_clusters = 5 The average silhouette_score with linkage- single : 0.28092188448134836\n",
      "\n",
      "For n_clusters = 6 The average silhouette_score with linkage- ward : 0.3713800645711787\n",
      "For n_clusters = 6 The average silhouette_score with linkage- complete : 0.38572273494486903\n",
      "For n_clusters = 6 The average silhouette_score with linkage- average : 0.2766820814868125\n",
      "For n_clusters = 6 The average silhouette_score with linkage- single : 0.12519526833308936\n",
      "\n",
      "For n_clusters = 7 The average silhouette_score with linkage- ward : 0.353306007353676\n",
      "For n_clusters = 7 The average silhouette_score with linkage- complete : 0.3604618081021532\n",
      "For n_clusters = 7 The average silhouette_score with linkage- average : 0.25130821023106226\n",
      "For n_clusters = 7 The average silhouette_score with linkage- single : 0.1255636927021612\n",
      "\n",
      "For n_clusters = 8 The average silhouette_score with linkage- ward : 0.35521356195426573\n",
      "For n_clusters = 8 The average silhouette_score with linkage- complete : 0.36654365904308384\n",
      "For n_clusters = 8 The average silhouette_score with linkage- average : 0.4170401637909488\n",
      "For n_clusters = 8 The average silhouette_score with linkage- single : 0.1237539961944779\n",
      "\n"
     ]
    }
   ],
   "source": [
    "from sklearn.cluster import AgglomerativeClustering\n",
    "n_clusters = [2,3,4,5,6,7,8]  # always start number from 2.\n",
    "\n",
    "for n_clusters in n_clusters:\n",
    "    for linkages in [\"ward\", \"complete\", \"average\", \"single\"]:\n",
    "        hie_cluster2 = AgglomerativeClustering(n_clusters=n_clusters,linkage=linkages) # bydefault it takes linkage 'ward'\n",
    "        hie_labels2 = hie_cluster2.fit_predict(pca_minmax_df)\n",
    "        silhouette_score2 = silhouette_score(pca_minmax_df, hie_labels2)\n",
    "        print(\"For n_clusters =\", n_clusters,\"The average silhouette_score with linkage-\",linkages, ':',silhouette_score2)\n",
    "    print()"
   ]
  },
  {
   "cell_type": "markdown",
   "metadata": {
    "papermill": {
     "duration": 0.127365,
     "end_time": "2020-10-20T15:29:22.105296",
     "exception": false,
     "start_time": "2020-10-20T15:29:21.977931",
     "status": "completed"
    },
    "tags": []
   },
   "source": [
    " Conclusion: dataset with MinMax transformation & PCA applied on it doesn't imporoved score here. So i am taking previous cell code conclusion."
   ]
  },
  {
   "cell_type": "markdown",
   "metadata": {
    "papermill": {
     "duration": 0.125791,
     "end_time": "2020-10-20T15:29:22.356820",
     "exception": false,
     "start_time": "2020-10-20T15:29:22.231029",
     "status": "completed"
    },
    "tags": []
   },
   "source": [
    "## 6.2 Run Hierarchical Clustering.(Agglomerative Clustering)"
   ]
  },
  {
   "cell_type": "code",
   "execution_count": 34,
   "metadata": {
    "execution": {
     "iopub.execute_input": "2020-10-20T15:29:22.611001Z",
     "iopub.status.busy": "2020-10-20T15:29:22.610210Z",
     "iopub.status.idle": "2020-10-20T15:29:23.337276Z",
     "shell.execute_reply": "2020-10-20T15:29:23.336379Z"
    },
    "papermill": {
     "duration": 0.857403,
     "end_time": "2020-10-20T15:29:23.337487",
     "exception": false,
     "start_time": "2020-10-20T15:29:22.480084",
     "status": "completed"
    },
    "tags": []
   },
   "outputs": [
    {
     "name": "stdout",
     "output_type": "stream",
     "text": [
      "(3999,)\n"
     ]
    },
    {
     "data": {
      "text/plain": [
       "array([0, 0, 0, ..., 0, 0, 0])"
      ]
     },
     "execution_count": 34,
     "metadata": {},
     "output_type": "execute_result"
    }
   ],
   "source": [
    "agg_clustering = AgglomerativeClustering(n_clusters=5, linkage='average')\n",
    "y_pred_hie = agg_clustering.fit_predict(pca_std_df)\n",
    "print(y_pred_hie.shape)\n",
    "y_pred_hie"
   ]
  },
  {
   "cell_type": "code",
   "execution_count": 35,
   "metadata": {
    "execution": {
     "iopub.execute_input": "2020-10-20T15:29:23.608670Z",
     "iopub.status.busy": "2020-10-20T15:29:23.607533Z",
     "iopub.status.idle": "2020-10-20T15:29:23.613626Z",
     "shell.execute_reply": "2020-10-20T15:29:23.612832Z"
    },
    "papermill": {
     "duration": 0.146496,
     "end_time": "2020-10-20T15:29:23.613803",
     "exception": false,
     "start_time": "2020-10-20T15:29:23.467307",
     "status": "completed"
    },
    "tags": []
   },
   "outputs": [
    {
     "data": {
      "text/plain": [
       "5"
      ]
     },
     "execution_count": 35,
     "metadata": {},
     "output_type": "execute_result"
    }
   ],
   "source": [
    "# Cluster numbers\n",
    "\n",
    "agg_clustering.n_clusters_"
   ]
  },
  {
   "cell_type": "code",
   "execution_count": 36,
   "metadata": {
    "execution": {
     "iopub.execute_input": "2020-10-20T15:29:23.941792Z",
     "iopub.status.busy": "2020-10-20T15:29:23.940525Z",
     "iopub.status.idle": "2020-10-20T15:29:23.945299Z",
     "shell.execute_reply": "2020-10-20T15:29:23.946346Z"
    },
    "papermill": {
     "duration": 0.193439,
     "end_time": "2020-10-20T15:29:23.946577",
     "exception": false,
     "start_time": "2020-10-20T15:29:23.753138",
     "status": "completed"
    },
    "tags": []
   },
   "outputs": [
    {
     "data": {
      "text/plain": [
       "array([0, 0, 0, ..., 0, 0, 0])"
      ]
     },
     "execution_count": 36,
     "metadata": {},
     "output_type": "execute_result"
    }
   ],
   "source": [
    "# cluster labels for each point\n",
    "\n",
    "agg_clustering.labels_"
   ]
  },
  {
   "cell_type": "code",
   "execution_count": 37,
   "metadata": {
    "execution": {
     "iopub.execute_input": "2020-10-20T15:29:24.240737Z",
     "iopub.status.busy": "2020-10-20T15:29:24.239433Z",
     "iopub.status.idle": "2020-10-20T15:29:24.245157Z",
     "shell.execute_reply": "2020-10-20T15:29:24.244347Z"
    },
    "papermill": {
     "duration": 0.145859,
     "end_time": "2020-10-20T15:29:24.245298",
     "exception": false,
     "start_time": "2020-10-20T15:29:24.099439",
     "status": "completed"
    },
    "tags": []
   },
   "outputs": [
    {
     "data": {
      "text/plain": [
       "3999"
      ]
     },
     "execution_count": 37,
     "metadata": {},
     "output_type": "execute_result"
    }
   ],
   "source": [
    "# Number of leaves in the hierarchical tree.\n",
    "\n",
    "agg_clustering.n_leaves_"
   ]
  },
  {
   "cell_type": "code",
   "execution_count": 38,
   "metadata": {
    "execution": {
     "iopub.execute_input": "2020-10-20T15:29:24.531954Z",
     "iopub.status.busy": "2020-10-20T15:29:24.530930Z",
     "iopub.status.idle": "2020-10-20T15:29:24.536675Z",
     "shell.execute_reply": "2020-10-20T15:29:24.535935Z"
    },
    "papermill": {
     "duration": 0.142511,
     "end_time": "2020-10-20T15:29:24.536818",
     "exception": false,
     "start_time": "2020-10-20T15:29:24.394307",
     "status": "completed"
    },
    "tags": []
   },
   "outputs": [
    {
     "data": {
      "text/plain": [
       "1"
      ]
     },
     "execution_count": 38,
     "metadata": {},
     "output_type": "execute_result"
    }
   ],
   "source": [
    "# The estimated number of connected components in the graph.\n",
    "\n",
    "agg_clustering.n_connected_components_"
   ]
  },
  {
   "cell_type": "code",
   "execution_count": 39,
   "metadata": {
    "execution": {
     "iopub.execute_input": "2020-10-20T15:29:24.802703Z",
     "iopub.status.busy": "2020-10-20T15:29:24.801761Z",
     "iopub.status.idle": "2020-10-20T15:29:24.807483Z",
     "shell.execute_reply": "2020-10-20T15:29:24.806915Z"
    },
    "papermill": {
     "duration": 0.142151,
     "end_time": "2020-10-20T15:29:24.807616",
     "exception": false,
     "start_time": "2020-10-20T15:29:24.665465",
     "status": "completed"
    },
    "tags": []
   },
   "outputs": [
    {
     "data": {
      "text/plain": [
       "array([[3370, 3876],\n",
       "       [1826, 2121],\n",
       "       [2678, 2679],\n",
       "       ...,\n",
       "       [7991, 7993],\n",
       "       [7986, 7994],\n",
       "       [7988, 7995]])"
      ]
     },
     "execution_count": 39,
     "metadata": {},
     "output_type": "execute_result"
    }
   ],
   "source": [
    "# The children of each non-leaf node. Values less than n_samples correspond to leaves of \n",
    "#......the tree which are the original samples. A node i greater than or equal to n_samples \n",
    "#.........is a non-leaf node and has children children_[i - n_samples]. Alternatively at the \n",
    "#...........i-th iteration, children[i][0] and children[i][1] are merged to form node n_samples + i\n",
    "\n",
    "agg_clustering.children_"
   ]
  },
  {
   "cell_type": "code",
   "execution_count": 40,
   "metadata": {
    "execution": {
     "iopub.execute_input": "2020-10-20T15:29:25.086496Z",
     "iopub.status.busy": "2020-10-20T15:29:25.085036Z",
     "iopub.status.idle": "2020-10-20T15:29:25.416676Z",
     "shell.execute_reply": "2020-10-20T15:29:25.415591Z"
    },
    "papermill": {
     "duration": 0.475451,
     "end_time": "2020-10-20T15:29:25.416846",
     "exception": false,
     "start_time": "2020-10-20T15:29:24.941395",
     "status": "completed"
    },
    "tags": []
   },
   "outputs": [
    {
     "data": {
      "text/plain": [
       "66.804"
      ]
     },
     "execution_count": 40,
     "metadata": {},
     "output_type": "execute_result"
    }
   ],
   "source": [
    "# Clustering Score\n",
    "\n",
    "(silhouette_score(pca_std_df, agg_clustering.labels_)*100).round(3)"
   ]
  },
  {
   "cell_type": "code",
   "execution_count": 41,
   "metadata": {
    "execution": {
     "iopub.execute_input": "2020-10-20T15:29:25.703747Z",
     "iopub.status.busy": "2020-10-20T15:29:25.701434Z",
     "iopub.status.idle": "2020-10-20T15:31:05.324109Z",
     "shell.execute_reply": "2020-10-20T15:31:05.324726Z"
    },
    "papermill": {
     "duration": 99.772837,
     "end_time": "2020-10-20T15:31:05.324936",
     "exception": false,
     "start_time": "2020-10-20T15:29:25.552099",
     "status": "completed"
    },
    "tags": []
   },
   "outputs": [
    {
     "data": {
      "image/png": "[encoded data removed]",
      "text/plain": [
       "<Figure size 1440x432 with 1 Axes>"
      ]
     },
     "metadata": {},
     "output_type": "display_data"
    }
   ],
   "source": [
    "# Plotting Dendrogram.\n",
    "\n",
    "import scipy.cluster.hierarchy as shc\n",
    "for methods in ['average']: \n",
    "    plt.figure(figsize =(20, 6)) \n",
    "    \n",
    "    dict = {'fontsize':24,'fontweight' :16, 'color' : 'blue'}\n",
    "    \n",
    "    plt.title('Visualising the data, Method- {}'.format(methods),fontdict = dict) \n",
    "    Dendrogram2 = shc.dendrogram(shc.linkage(pca_std_df, method = methods,optimal_ordering=False))"
   ]
  },
  {
   "cell_type": "markdown",
   "metadata": {
    "papermill": {
     "duration": 0.129024,
     "end_time": "2020-10-20T15:31:05.586182",
     "exception": false,
     "start_time": "2020-10-20T15:31:05.457158",
     "status": "completed"
    },
    "tags": []
   },
   "source": [
    "## 6.4 Putting Cluster lables into original dataset And analysis of the same."
   ]
  },
  {
   "cell_type": "code",
   "execution_count": 42,
   "metadata": {
    "execution": {
     "iopub.execute_input": "2020-10-20T15:31:05.853625Z",
     "iopub.status.busy": "2020-10-20T15:31:05.852827Z",
     "iopub.status.idle": "2020-10-20T15:31:05.856333Z",
     "shell.execute_reply": "2020-10-20T15:31:05.856980Z"
    },
    "papermill": {
     "duration": 0.141887,
     "end_time": "2020-10-20T15:31:05.857153",
     "exception": false,
     "start_time": "2020-10-20T15:31:05.715266",
     "status": "completed"
    },
    "tags": []
   },
   "outputs": [],
   "source": [
    "# Creating dataframe of cluster lables..\n",
    "\n",
    "hie_cluster = pd.DataFrame(agg_clustering.labels_.copy(), columns=['Hie_Clustering'])"
   ]
  },
  {
   "cell_type": "code",
   "execution_count": 43,
   "metadata": {
    "execution": {
     "iopub.execute_input": "2020-10-20T15:31:06.133347Z",
     "iopub.status.busy": "2020-10-20T15:31:06.127212Z",
     "iopub.status.idle": "2020-10-20T15:31:06.144580Z",
     "shell.execute_reply": "2020-10-20T15:31:06.143941Z"
    },
    "papermill": {
     "duration": 0.156485,
     "end_time": "2020-10-20T15:31:06.144760",
     "exception": false,
     "start_time": "2020-10-20T15:31:05.988275",
     "status": "completed"
    },
    "tags": []
   },
   "outputs": [
    {
     "data": {
      "text/html": [
       "<div>\n",
       "<style scoped>\n",
       "    .dataframe tbody tr th:only-of-type {\n",
       "        vertical-align: middle;\n",
       "    }\n",
       "\n",
       "    .dataframe tbody tr th {\n",
       "        vertical-align: top;\n",
       "    }\n",
       "\n",
       "    .dataframe thead th {\n",
       "        text-align: right;\n",
       "    }\n",
       "</style>\n",
       "<table border=\"1\" class=\"dataframe\">\n",
       "  <thead>\n",
       "    <tr style=\"text-align: right;\">\n",
       "      <th></th>\n",
       "      <th>ID</th>\n",
       "      <th>Balance</th>\n",
       "      <th>Qual_miles</th>\n",
       "      <th>cc1_miles</th>\n",
       "      <th>cc2_miles</th>\n",
       "      <th>cc3_miles</th>\n",
       "      <th>Bonus_miles</th>\n",
       "      <th>Bonus_trans</th>\n",
       "      <th>Flight_miles_12mo</th>\n",
       "      <th>Flight_trans_12</th>\n",
       "      <th>Days_since_enroll</th>\n",
       "      <th>Award</th>\n",
       "      <th>Hie_Clustering</th>\n",
       "    </tr>\n",
       "  </thead>\n",
       "  <tbody>\n",
       "    <tr>\n",
       "      <th>0</th>\n",
       "      <td>1</td>\n",
       "      <td>28143</td>\n",
       "      <td>0</td>\n",
       "      <td>1</td>\n",
       "      <td>1</td>\n",
       "      <td>1</td>\n",
       "      <td>174</td>\n",
       "      <td>1</td>\n",
       "      <td>0</td>\n",
       "      <td>0</td>\n",
       "      <td>7000</td>\n",
       "      <td>0</td>\n",
       "      <td>0</td>\n",
       "    </tr>\n",
       "    <tr>\n",
       "      <th>1</th>\n",
       "      <td>2</td>\n",
       "      <td>19244</td>\n",
       "      <td>0</td>\n",
       "      <td>1</td>\n",
       "      <td>1</td>\n",
       "      <td>1</td>\n",
       "      <td>215</td>\n",
       "      <td>2</td>\n",
       "      <td>0</td>\n",
       "      <td>0</td>\n",
       "      <td>6968</td>\n",
       "      <td>0</td>\n",
       "      <td>0</td>\n",
       "    </tr>\n",
       "    <tr>\n",
       "      <th>2</th>\n",
       "      <td>3</td>\n",
       "      <td>41354</td>\n",
       "      <td>0</td>\n",
       "      <td>1</td>\n",
       "      <td>1</td>\n",
       "      <td>1</td>\n",
       "      <td>4123</td>\n",
       "      <td>4</td>\n",
       "      <td>0</td>\n",
       "      <td>0</td>\n",
       "      <td>7034</td>\n",
       "      <td>0</td>\n",
       "      <td>0</td>\n",
       "    </tr>\n",
       "    <tr>\n",
       "      <th>3</th>\n",
       "      <td>4</td>\n",
       "      <td>14776</td>\n",
       "      <td>0</td>\n",
       "      <td>1</td>\n",
       "      <td>1</td>\n",
       "      <td>1</td>\n",
       "      <td>500</td>\n",
       "      <td>1</td>\n",
       "      <td>0</td>\n",
       "      <td>0</td>\n",
       "      <td>6952</td>\n",
       "      <td>0</td>\n",
       "      <td>0</td>\n",
       "    </tr>\n",
       "    <tr>\n",
       "      <th>4</th>\n",
       "      <td>5</td>\n",
       "      <td>97752</td>\n",
       "      <td>0</td>\n",
       "      <td>4</td>\n",
       "      <td>1</td>\n",
       "      <td>1</td>\n",
       "      <td>43300</td>\n",
       "      <td>26</td>\n",
       "      <td>2077</td>\n",
       "      <td>4</td>\n",
       "      <td>6935</td>\n",
       "      <td>1</td>\n",
       "      <td>0</td>\n",
       "    </tr>\n",
       "  </tbody>\n",
       "</table>\n",
       "</div>"
      ],
      "text/plain": [
       "   ID  Balance  Qual_miles  cc1_miles  cc2_miles  cc3_miles  Bonus_miles  \\\n",
       "0   1    28143           0          1          1          1          174   \n",
       "1   2    19244           0          1          1          1          215   \n",
       "2   3    41354           0          1          1          1         4123   \n",
       "3   4    14776           0          1          1          1          500   \n",
       "4   5    97752           0          4          1          1        43300   \n",
       "\n",
       "   Bonus_trans  Flight_miles_12mo  Flight_trans_12  Days_since_enroll  Award  \\\n",
       "0            1                  0                0               7000      0   \n",
       "1            2                  0                0               6968      0   \n",
       "2            4                  0                0               7034      0   \n",
       "3            1                  0                0               6952      0   \n",
       "4           26               2077                4               6935      1   \n",
       "\n",
       "   Hie_Clustering  \n",
       "0               0  \n",
       "1               0  \n",
       "2               0  \n",
       "3               0  \n",
       "4               0  "
      ]
     },
     "execution_count": 43,
     "metadata": {},
     "output_type": "execute_result"
    }
   ],
   "source": [
    "# Concating model1_Cluster df with main dataset copy\n",
    "\n",
    "hie_df = pd.concat([dataset.copy(), hie_cluster], axis=1)\n",
    "hie_df .head()"
   ]
  },
  {
   "cell_type": "code",
   "execution_count": 44,
   "metadata": {
    "execution": {
     "iopub.execute_input": "2020-10-20T15:31:06.428101Z",
     "iopub.status.busy": "2020-10-20T15:31:06.420694Z",
     "iopub.status.idle": "2020-10-20T15:31:06.598688Z",
     "shell.execute_reply": "2020-10-20T15:31:06.597983Z"
    },
    "papermill": {
     "duration": 0.319218,
     "end_time": "2020-10-20T15:31:06.598847",
     "exception": false,
     "start_time": "2020-10-20T15:31:06.279629",
     "status": "completed"
    },
    "tags": []
   },
   "outputs": [
    {
     "data": {
      "image/png": "[encoded data removed]",
      "text/plain": [
       "<Figure size 720x432 with 1 Axes>"
      ]
     },
     "metadata": {},
     "output_type": "display_data"
    }
   ],
   "source": [
    "# Plotting barplot using groupby method to get visualize how many row no. in each cluster\n",
    "\n",
    "fig, ax = plt.subplots(figsize=(10, 6))\n",
    "hie_df.groupby(['Hie_Clustering']).count()['ID'].plot(kind='bar')\n",
    "plt.ylabel('ID Counts')\n",
    "plt.title('Hierarchical Clustering (pca_std_df)',fontsize='large',fontweight='bold')\n",
    "ax.set_xlabel('Clusters', fontsize='large', fontweight='bold')\n",
    "ax.set_ylabel('ID counts', fontsize='large', fontweight='bold')\n",
    "plt.yticks(fontsize=15)\n",
    "plt.xticks(fontsize=15)\n",
    "plt.show()"
   ]
  },
  {
   "cell_type": "markdown",
   "metadata": {
    "papermill": {
     "duration": 0.135042,
     "end_time": "2020-10-20T15:31:06.869007",
     "exception": false,
     "start_time": "2020-10-20T15:31:06.733965",
     "status": "completed"
    },
    "tags": []
   },
   "source": [
    "# Step 7: Conclusion Between Kmeans & Hierarchical"
   ]
  },
  {
   "cell_type": "markdown",
   "metadata": {
    "papermill": {
     "duration": 0.140012,
     "end_time": "2020-10-20T15:31:07.143831",
     "exception": false,
     "start_time": "2020-10-20T15:31:07.003819",
     "status": "completed"
    },
    "tags": []
   },
   "source": [
    "![](https://github.com/ShrikantUppin/Clustering/blob/main/Kmeans_ID_column.png?raw=true)"
   ]
  },
  {
   "cell_type": "markdown",
   "metadata": {
    "papermill": {
     "duration": 0.135748,
     "end_time": "2020-10-20T15:31:07.414323",
     "exception": false,
     "start_time": "2020-10-20T15:31:07.278575",
     "status": "completed"
    },
    "tags": []
   },
   "source": [
    "![](https://github.com/ShrikantUppin/Clustering/blob/main/Hierarchical_Clustering.png?raw=true)"
   ]
  },
  {
   "cell_type": "code",
   "execution_count": 45,
   "metadata": {
    "execution": {
     "iopub.execute_input": "2020-10-20T15:31:07.689978Z",
     "iopub.status.busy": "2020-10-20T15:31:07.689157Z",
     "iopub.status.idle": "2020-10-20T15:31:07.707816Z",
     "shell.execute_reply": "2020-10-20T15:31:07.707170Z"
    },
    "papermill": {
     "duration": 0.159683,
     "end_time": "2020-10-20T15:31:07.707964",
     "exception": false,
     "start_time": "2020-10-20T15:31:07.548281",
     "status": "completed"
    },
    "tags": []
   },
   "outputs": [
    {
     "data": {
      "text/html": [
       "<div>\n",
       "<style scoped>\n",
       "    .dataframe tbody tr th:only-of-type {\n",
       "        vertical-align: middle;\n",
       "    }\n",
       "\n",
       "    .dataframe tbody tr th {\n",
       "        vertical-align: top;\n",
       "    }\n",
       "\n",
       "    .dataframe thead th {\n",
       "        text-align: right;\n",
       "    }\n",
       "</style>\n",
       "<table border=\"1\" class=\"dataframe\">\n",
       "  <thead>\n",
       "    <tr style=\"text-align: right;\">\n",
       "      <th></th>\n",
       "      <th>ID</th>\n",
       "      <th>Balance</th>\n",
       "      <th>Qual_miles</th>\n",
       "      <th>cc1_miles</th>\n",
       "      <th>cc2_miles</th>\n",
       "      <th>cc3_miles</th>\n",
       "      <th>Bonus_miles</th>\n",
       "      <th>Bonus_trans</th>\n",
       "      <th>Flight_miles_12mo</th>\n",
       "      <th>Flight_trans_12</th>\n",
       "      <th>Days_since_enroll</th>\n",
       "      <th>Award</th>\n",
       "    </tr>\n",
       "    <tr>\n",
       "      <th>Kmeans_Clustering</th>\n",
       "      <th></th>\n",
       "      <th></th>\n",
       "      <th></th>\n",
       "      <th></th>\n",
       "      <th></th>\n",
       "      <th></th>\n",
       "      <th></th>\n",
       "      <th></th>\n",
       "      <th></th>\n",
       "      <th></th>\n",
       "      <th></th>\n",
       "      <th></th>\n",
       "    </tr>\n",
       "  </thead>\n",
       "  <tbody>\n",
       "    <tr>\n",
       "      <th>0</th>\n",
       "      <td>1293</td>\n",
       "      <td>1293</td>\n",
       "      <td>1293</td>\n",
       "      <td>1293</td>\n",
       "      <td>1293</td>\n",
       "      <td>1293</td>\n",
       "      <td>1293</td>\n",
       "      <td>1293</td>\n",
       "      <td>1293</td>\n",
       "      <td>1293</td>\n",
       "      <td>1293</td>\n",
       "      <td>1293</td>\n",
       "    </tr>\n",
       "    <tr>\n",
       "      <th>1</th>\n",
       "      <td>2448</td>\n",
       "      <td>2448</td>\n",
       "      <td>2448</td>\n",
       "      <td>2448</td>\n",
       "      <td>2448</td>\n",
       "      <td>2448</td>\n",
       "      <td>2448</td>\n",
       "      <td>2448</td>\n",
       "      <td>2448</td>\n",
       "      <td>2448</td>\n",
       "      <td>2448</td>\n",
       "      <td>2448</td>\n",
       "    </tr>\n",
       "    <tr>\n",
       "      <th>2</th>\n",
       "      <td>141</td>\n",
       "      <td>141</td>\n",
       "      <td>141</td>\n",
       "      <td>141</td>\n",
       "      <td>141</td>\n",
       "      <td>141</td>\n",
       "      <td>141</td>\n",
       "      <td>141</td>\n",
       "      <td>141</td>\n",
       "      <td>141</td>\n",
       "      <td>141</td>\n",
       "      <td>141</td>\n",
       "    </tr>\n",
       "    <tr>\n",
       "      <th>3</th>\n",
       "      <td>59</td>\n",
       "      <td>59</td>\n",
       "      <td>59</td>\n",
       "      <td>59</td>\n",
       "      <td>59</td>\n",
       "      <td>59</td>\n",
       "      <td>59</td>\n",
       "      <td>59</td>\n",
       "      <td>59</td>\n",
       "      <td>59</td>\n",
       "      <td>59</td>\n",
       "      <td>59</td>\n",
       "    </tr>\n",
       "    <tr>\n",
       "      <th>4</th>\n",
       "      <td>43</td>\n",
       "      <td>43</td>\n",
       "      <td>43</td>\n",
       "      <td>43</td>\n",
       "      <td>43</td>\n",
       "      <td>43</td>\n",
       "      <td>43</td>\n",
       "      <td>43</td>\n",
       "      <td>43</td>\n",
       "      <td>43</td>\n",
       "      <td>43</td>\n",
       "      <td>43</td>\n",
       "    </tr>\n",
       "    <tr>\n",
       "      <th>5</th>\n",
       "      <td>15</td>\n",
       "      <td>15</td>\n",
       "      <td>15</td>\n",
       "      <td>15</td>\n",
       "      <td>15</td>\n",
       "      <td>15</td>\n",
       "      <td>15</td>\n",
       "      <td>15</td>\n",
       "      <td>15</td>\n",
       "      <td>15</td>\n",
       "      <td>15</td>\n",
       "      <td>15</td>\n",
       "    </tr>\n",
       "  </tbody>\n",
       "</table>\n",
       "</div>"
      ],
      "text/plain": [
       "                     ID  Balance  Qual_miles  cc1_miles  cc2_miles  cc3_miles  \\\n",
       "Kmeans_Clustering                                                               \n",
       "0                  1293     1293        1293       1293       1293       1293   \n",
       "1                  2448     2448        2448       2448       2448       2448   \n",
       "2                   141      141         141        141        141        141   \n",
       "3                    59       59          59         59         59         59   \n",
       "4                    43       43          43         43         43         43   \n",
       "5                    15       15          15         15         15         15   \n",
       "\n",
       "                   Bonus_miles  Bonus_trans  Flight_miles_12mo  \\\n",
       "Kmeans_Clustering                                                \n",
       "0                         1293         1293               1293   \n",
       "1                         2448         2448               2448   \n",
       "2                          141          141                141   \n",
       "3                           59           59                 59   \n",
       "4                           43           43                 43   \n",
       "5                           15           15                 15   \n",
       "\n",
       "                   Flight_trans_12  Days_since_enroll  Award  \n",
       "Kmeans_Clustering                                             \n",
       "0                             1293               1293   1293  \n",
       "1                             2448               2448   2448  \n",
       "2                              141                141    141  \n",
       "3                               59                 59     59  \n",
       "4                               43                 43     43  \n",
       "5                               15                 15     15  "
      ]
     },
     "execution_count": 45,
     "metadata": {},
     "output_type": "execute_result"
    }
   ],
   "source": [
    "Kmeans_df.groupby(['Kmeans_Clustering']).count()"
   ]
  },
  {
   "cell_type": "code",
   "execution_count": 46,
   "metadata": {
    "execution": {
     "iopub.execute_input": "2020-10-20T15:31:07.987151Z",
     "iopub.status.busy": "2020-10-20T15:31:07.985993Z",
     "iopub.status.idle": "2020-10-20T15:31:08.004617Z",
     "shell.execute_reply": "2020-10-20T15:31:08.005221Z"
    },
    "papermill": {
     "duration": 0.162609,
     "end_time": "2020-10-20T15:31:08.005426",
     "exception": false,
     "start_time": "2020-10-20T15:31:07.842817",
     "status": "completed"
    },
    "scrolled": true,
    "tags": []
   },
   "outputs": [
    {
     "data": {
      "text/html": [
       "<div>\n",
       "<style scoped>\n",
       "    .dataframe tbody tr th:only-of-type {\n",
       "        vertical-align: middle;\n",
       "    }\n",
       "\n",
       "    .dataframe tbody tr th {\n",
       "        vertical-align: top;\n",
       "    }\n",
       "\n",
       "    .dataframe thead th {\n",
       "        text-align: right;\n",
       "    }\n",
       "</style>\n",
       "<table border=\"1\" class=\"dataframe\">\n",
       "  <thead>\n",
       "    <tr style=\"text-align: right;\">\n",
       "      <th></th>\n",
       "      <th>ID</th>\n",
       "      <th>Balance</th>\n",
       "      <th>Qual_miles</th>\n",
       "      <th>cc1_miles</th>\n",
       "      <th>cc2_miles</th>\n",
       "      <th>cc3_miles</th>\n",
       "      <th>Bonus_miles</th>\n",
       "      <th>Bonus_trans</th>\n",
       "      <th>Flight_miles_12mo</th>\n",
       "      <th>Flight_trans_12</th>\n",
       "      <th>Days_since_enroll</th>\n",
       "      <th>Award</th>\n",
       "    </tr>\n",
       "    <tr>\n",
       "      <th>Hie_Clustering</th>\n",
       "      <th></th>\n",
       "      <th></th>\n",
       "      <th></th>\n",
       "      <th></th>\n",
       "      <th></th>\n",
       "      <th></th>\n",
       "      <th></th>\n",
       "      <th></th>\n",
       "      <th></th>\n",
       "      <th></th>\n",
       "      <th></th>\n",
       "      <th></th>\n",
       "    </tr>\n",
       "  </thead>\n",
       "  <tbody>\n",
       "    <tr>\n",
       "      <th>0</th>\n",
       "      <td>3965</td>\n",
       "      <td>3965</td>\n",
       "      <td>3965</td>\n",
       "      <td>3965</td>\n",
       "      <td>3965</td>\n",
       "      <td>3965</td>\n",
       "      <td>3965</td>\n",
       "      <td>3965</td>\n",
       "      <td>3965</td>\n",
       "      <td>3965</td>\n",
       "      <td>3965</td>\n",
       "      <td>3965</td>\n",
       "    </tr>\n",
       "    <tr>\n",
       "      <th>1</th>\n",
       "      <td>10</td>\n",
       "      <td>10</td>\n",
       "      <td>10</td>\n",
       "      <td>10</td>\n",
       "      <td>10</td>\n",
       "      <td>10</td>\n",
       "      <td>10</td>\n",
       "      <td>10</td>\n",
       "      <td>10</td>\n",
       "      <td>10</td>\n",
       "      <td>10</td>\n",
       "      <td>10</td>\n",
       "    </tr>\n",
       "    <tr>\n",
       "      <th>2</th>\n",
       "      <td>15</td>\n",
       "      <td>15</td>\n",
       "      <td>15</td>\n",
       "      <td>15</td>\n",
       "      <td>15</td>\n",
       "      <td>15</td>\n",
       "      <td>15</td>\n",
       "      <td>15</td>\n",
       "      <td>15</td>\n",
       "      <td>15</td>\n",
       "      <td>15</td>\n",
       "      <td>15</td>\n",
       "    </tr>\n",
       "    <tr>\n",
       "      <th>3</th>\n",
       "      <td>4</td>\n",
       "      <td>4</td>\n",
       "      <td>4</td>\n",
       "      <td>4</td>\n",
       "      <td>4</td>\n",
       "      <td>4</td>\n",
       "      <td>4</td>\n",
       "      <td>4</td>\n",
       "      <td>4</td>\n",
       "      <td>4</td>\n",
       "      <td>4</td>\n",
       "      <td>4</td>\n",
       "    </tr>\n",
       "    <tr>\n",
       "      <th>4</th>\n",
       "      <td>5</td>\n",
       "      <td>5</td>\n",
       "      <td>5</td>\n",
       "      <td>5</td>\n",
       "      <td>5</td>\n",
       "      <td>5</td>\n",
       "      <td>5</td>\n",
       "      <td>5</td>\n",
       "      <td>5</td>\n",
       "      <td>5</td>\n",
       "      <td>5</td>\n",
       "      <td>5</td>\n",
       "    </tr>\n",
       "  </tbody>\n",
       "</table>\n",
       "</div>"
      ],
      "text/plain": [
       "                  ID  Balance  Qual_miles  cc1_miles  cc2_miles  cc3_miles  \\\n",
       "Hie_Clustering                                                               \n",
       "0               3965     3965        3965       3965       3965       3965   \n",
       "1                 10       10          10         10         10         10   \n",
       "2                 15       15          15         15         15         15   \n",
       "3                  4        4           4          4          4          4   \n",
       "4                  5        5           5          5          5          5   \n",
       "\n",
       "                Bonus_miles  Bonus_trans  Flight_miles_12mo  Flight_trans_12  \\\n",
       "Hie_Clustering                                                                 \n",
       "0                      3965         3965               3965             3965   \n",
       "1                        10           10                 10               10   \n",
       "2                        15           15                 15               15   \n",
       "3                         4            4                  4                4   \n",
       "4                         5            5                  5                5   \n",
       "\n",
       "                Days_since_enroll  Award  \n",
       "Hie_Clustering                            \n",
       "0                            3965   3965  \n",
       "1                              10     10  \n",
       "2                              15     15  \n",
       "3                               4      4  \n",
       "4                               5      5  "
      ]
     },
     "execution_count": 46,
     "metadata": {},
     "output_type": "execute_result"
    }
   ],
   "source": [
    "hie_df.groupby(['Hie_Clustering']).count()"
   ]
  },
  {
   "cell_type": "markdown",
   "metadata": {
    "papermill": {
     "duration": 0.141313,
     "end_time": "2020-10-20T15:31:08.280919",
     "exception": false,
     "start_time": "2020-10-20T15:31:08.139606",
     "status": "completed"
    },
    "tags": []
   },
   "source": [
    " * Conclusion: We will go with Kmeans Clustering Since in hierarchiacl clustering all data is gathherd in one cluster only."
   ]
  },
  {
   "cell_type": "markdown",
   "metadata": {
    "papermill": {
     "duration": 0.133226,
     "end_time": "2020-10-20T15:31:08.548245",
     "exception": false,
     "start_time": "2020-10-20T15:31:08.415019",
     "status": "completed"
    },
    "tags": []
   },
   "source": [
    "# Cluster Anlysis for Future Decision (Kmeans clustering)"
   ]
  },
  {
   "cell_type": "code",
   "execution_count": 47,
   "metadata": {
    "execution": {
     "iopub.execute_input": "2020-10-20T15:31:08.824776Z",
     "iopub.status.busy": "2020-10-20T15:31:08.823955Z",
     "iopub.status.idle": "2020-10-20T15:31:08.842528Z",
     "shell.execute_reply": "2020-10-20T15:31:08.843127Z"
    },
    "papermill": {
     "duration": 0.160798,
     "end_time": "2020-10-20T15:31:08.843309",
     "exception": false,
     "start_time": "2020-10-20T15:31:08.682511",
     "status": "completed"
    },
    "scrolled": true,
    "tags": []
   },
   "outputs": [
    {
     "data": {
      "text/html": [
       "<div>\n",
       "<style scoped>\n",
       "    .dataframe tbody tr th:only-of-type {\n",
       "        vertical-align: middle;\n",
       "    }\n",
       "\n",
       "    .dataframe tbody tr th {\n",
       "        vertical-align: top;\n",
       "    }\n",
       "\n",
       "    .dataframe thead th {\n",
       "        text-align: right;\n",
       "    }\n",
       "</style>\n",
       "<table border=\"1\" class=\"dataframe\">\n",
       "  <thead>\n",
       "    <tr style=\"text-align: right;\">\n",
       "      <th></th>\n",
       "      <th>ID</th>\n",
       "      <th>Balance</th>\n",
       "      <th>Qual_miles</th>\n",
       "      <th>cc1_miles</th>\n",
       "      <th>cc2_miles</th>\n",
       "      <th>cc3_miles</th>\n",
       "      <th>Bonus_miles</th>\n",
       "      <th>Bonus_trans</th>\n",
       "      <th>Flight_miles_12mo</th>\n",
       "      <th>Flight_trans_12</th>\n",
       "      <th>Days_since_enroll</th>\n",
       "      <th>Award</th>\n",
       "    </tr>\n",
       "    <tr>\n",
       "      <th>Kmeans_Clustering</th>\n",
       "      <th></th>\n",
       "      <th></th>\n",
       "      <th></th>\n",
       "      <th></th>\n",
       "      <th></th>\n",
       "      <th></th>\n",
       "      <th></th>\n",
       "      <th></th>\n",
       "      <th></th>\n",
       "      <th></th>\n",
       "      <th></th>\n",
       "      <th></th>\n",
       "    </tr>\n",
       "  </thead>\n",
       "  <tbody>\n",
       "    <tr>\n",
       "      <th>0</th>\n",
       "      <td>1293</td>\n",
       "      <td>1293</td>\n",
       "      <td>1293</td>\n",
       "      <td>1293</td>\n",
       "      <td>1293</td>\n",
       "      <td>1293</td>\n",
       "      <td>1293</td>\n",
       "      <td>1293</td>\n",
       "      <td>1293</td>\n",
       "      <td>1293</td>\n",
       "      <td>1293</td>\n",
       "      <td>1293</td>\n",
       "    </tr>\n",
       "    <tr>\n",
       "      <th>1</th>\n",
       "      <td>2448</td>\n",
       "      <td>2448</td>\n",
       "      <td>2448</td>\n",
       "      <td>2448</td>\n",
       "      <td>2448</td>\n",
       "      <td>2448</td>\n",
       "      <td>2448</td>\n",
       "      <td>2448</td>\n",
       "      <td>2448</td>\n",
       "      <td>2448</td>\n",
       "      <td>2448</td>\n",
       "      <td>2448</td>\n",
       "    </tr>\n",
       "    <tr>\n",
       "      <th>2</th>\n",
       "      <td>141</td>\n",
       "      <td>141</td>\n",
       "      <td>141</td>\n",
       "      <td>141</td>\n",
       "      <td>141</td>\n",
       "      <td>141</td>\n",
       "      <td>141</td>\n",
       "      <td>141</td>\n",
       "      <td>141</td>\n",
       "      <td>141</td>\n",
       "      <td>141</td>\n",
       "      <td>141</td>\n",
       "    </tr>\n",
       "    <tr>\n",
       "      <th>3</th>\n",
       "      <td>59</td>\n",
       "      <td>59</td>\n",
       "      <td>59</td>\n",
       "      <td>59</td>\n",
       "      <td>59</td>\n",
       "      <td>59</td>\n",
       "      <td>59</td>\n",
       "      <td>59</td>\n",
       "      <td>59</td>\n",
       "      <td>59</td>\n",
       "      <td>59</td>\n",
       "      <td>59</td>\n",
       "    </tr>\n",
       "    <tr>\n",
       "      <th>4</th>\n",
       "      <td>43</td>\n",
       "      <td>43</td>\n",
       "      <td>43</td>\n",
       "      <td>43</td>\n",
       "      <td>43</td>\n",
       "      <td>43</td>\n",
       "      <td>43</td>\n",
       "      <td>43</td>\n",
       "      <td>43</td>\n",
       "      <td>43</td>\n",
       "      <td>43</td>\n",
       "      <td>43</td>\n",
       "    </tr>\n",
       "    <tr>\n",
       "      <th>5</th>\n",
       "      <td>15</td>\n",
       "      <td>15</td>\n",
       "      <td>15</td>\n",
       "      <td>15</td>\n",
       "      <td>15</td>\n",
       "      <td>15</td>\n",
       "      <td>15</td>\n",
       "      <td>15</td>\n",
       "      <td>15</td>\n",
       "      <td>15</td>\n",
       "      <td>15</td>\n",
       "      <td>15</td>\n",
       "    </tr>\n",
       "  </tbody>\n",
       "</table>\n",
       "</div>"
      ],
      "text/plain": [
       "                     ID  Balance  Qual_miles  cc1_miles  cc2_miles  cc3_miles  \\\n",
       "Kmeans_Clustering                                                               \n",
       "0                  1293     1293        1293       1293       1293       1293   \n",
       "1                  2448     2448        2448       2448       2448       2448   \n",
       "2                   141      141         141        141        141        141   \n",
       "3                    59       59          59         59         59         59   \n",
       "4                    43       43          43         43         43         43   \n",
       "5                    15       15          15         15         15         15   \n",
       "\n",
       "                   Bonus_miles  Bonus_trans  Flight_miles_12mo  \\\n",
       "Kmeans_Clustering                                                \n",
       "0                         1293         1293               1293   \n",
       "1                         2448         2448               2448   \n",
       "2                          141          141                141   \n",
       "3                           59           59                 59   \n",
       "4                           43           43                 43   \n",
       "5                           15           15                 15   \n",
       "\n",
       "                   Flight_trans_12  Days_since_enroll  Award  \n",
       "Kmeans_Clustering                                             \n",
       "0                             1293               1293   1293  \n",
       "1                             2448               2448   2448  \n",
       "2                              141                141    141  \n",
       "3                               59                 59     59  \n",
       "4                               43                 43     43  \n",
       "5                               15                 15     15  "
      ]
     },
     "execution_count": 47,
     "metadata": {},
     "output_type": "execute_result"
    }
   ],
   "source": [
    "# Groupby Cluster lables\n",
    "\n",
    "count_df = Kmeans_df.groupby(['Kmeans_Clustering']).count()\n",
    "count_df"
   ]
  },
  {
   "cell_type": "code",
   "execution_count": 48,
   "metadata": {
    "execution": {
     "iopub.execute_input": "2020-10-20T15:31:09.127219Z",
     "iopub.status.busy": "2020-10-20T15:31:09.126256Z",
     "iopub.status.idle": "2020-10-20T15:31:09.294736Z",
     "shell.execute_reply": "2020-10-20T15:31:09.294113Z"
    },
    "papermill": {
     "duration": 0.31698,
     "end_time": "2020-10-20T15:31:09.294867",
     "exception": false,
     "start_time": "2020-10-20T15:31:08.977887",
     "status": "completed"
    },
    "tags": []
   },
   "outputs": [
    {
     "data": {
      "image/png": "[encoded data removed]",
      "text/plain": [
       "<Figure size 576x396 with 1 Axes>"
      ]
     },
     "metadata": {},
     "output_type": "display_data"
    }
   ],
   "source": [
    "# Total numbers in each cluster..\n",
    "\n",
    "count = count_df.xs('ID' ,axis = 1)\n",
    "count.plot(kind='bar', title= 'Nuber Counts')\n",
    "plt.show()"
   ]
  },
  {
   "cell_type": "markdown",
   "metadata": {
    "papermill": {
     "duration": 0.135045,
     "end_time": "2020-10-20T15:31:09.568324",
     "exception": false,
     "start_time": "2020-10-20T15:31:09.433279",
     "status": "completed"
    },
    "tags": []
   },
   "source": [
    "Conclusion:\n",
    "\n",
    "* In cluster number 0 & 1 there are more customers. Need to focus on cluster 0 & 1. (clusters avg. is taken &  renamed from next code onwards)\n",
    "\n",
    "***"
   ]
  },
  {
   "cell_type": "code",
   "execution_count": 49,
   "metadata": {
    "execution": {
     "iopub.execute_input": "2020-10-20T15:31:09.850903Z",
     "iopub.status.busy": "2020-10-20T15:31:09.850066Z",
     "iopub.status.idle": "2020-10-20T15:31:09.899859Z",
     "shell.execute_reply": "2020-10-20T15:31:09.900428Z"
    },
    "papermill": {
     "duration": 0.195943,
     "end_time": "2020-10-20T15:31:09.900606",
     "exception": false,
     "start_time": "2020-10-20T15:31:09.704663",
     "status": "completed"
    },
    "tags": []
   },
   "outputs": [],
   "source": [
    "# Sorting elements based on cluster label assigned and taking average for insights.\n",
    "\n",
    "cluster1 = pd.DataFrame(Kmeans_df.loc[Kmeans_df.Kmeans_Clustering==0].mean(),columns= ['Cluster1_avg'])\n",
    "cluster2 = pd.DataFrame(Kmeans_df.loc[Kmeans_df.Kmeans_Clustering==1].mean(),columns= ['Cluster2_avg'])\n",
    "cluster3 = pd.DataFrame(Kmeans_df.loc[Kmeans_df.Kmeans_Clustering==2].mean(),columns= ['Cluster3_avg'])\n",
    "cluster4 = pd.DataFrame(Kmeans_df.loc[Kmeans_df.Kmeans_Clustering==3].mean(),columns= ['Cluster4_avg'])\n",
    "cluster5 = pd.DataFrame(Kmeans_df.loc[Kmeans_df.Kmeans_Clustering==4].mean(),columns= ['Cluster5_avg'])"
   ]
  },
  {
   "cell_type": "code",
   "execution_count": 50,
   "metadata": {
    "execution": {
     "iopub.execute_input": "2020-10-20T15:31:10.194182Z",
     "iopub.status.busy": "2020-10-20T15:31:10.193085Z",
     "iopub.status.idle": "2020-10-20T15:31:10.199277Z",
     "shell.execute_reply": "2020-10-20T15:31:10.198546Z"
    },
    "papermill": {
     "duration": 0.161638,
     "end_time": "2020-10-20T15:31:10.199401",
     "exception": false,
     "start_time": "2020-10-20T15:31:10.037763",
     "status": "completed"
    },
    "tags": []
   },
   "outputs": [
    {
     "data": {
      "text/html": [
       "<div>\n",
       "<style scoped>\n",
       "    .dataframe tbody tr th:only-of-type {\n",
       "        vertical-align: middle;\n",
       "    }\n",
       "\n",
       "    .dataframe tbody tr th {\n",
       "        vertical-align: top;\n",
       "    }\n",
       "\n",
       "    .dataframe thead th {\n",
       "        text-align: right;\n",
       "    }\n",
       "</style>\n",
       "<table border=\"1\" class=\"dataframe\">\n",
       "  <thead>\n",
       "    <tr style=\"text-align: right;\">\n",
       "      <th></th>\n",
       "      <th>Cluster1_avg</th>\n",
       "      <th>Cluster2_avg</th>\n",
       "      <th>Cluster3_avg</th>\n",
       "      <th>Cluster4_avg</th>\n",
       "      <th>Cluster5_avg</th>\n",
       "    </tr>\n",
       "  </thead>\n",
       "  <tbody>\n",
       "    <tr>\n",
       "      <th>ID</th>\n",
       "      <td>1617.943542</td>\n",
       "      <td>2235.482843</td>\n",
       "      <td>1742.758865</td>\n",
       "      <td>2110.423729</td>\n",
       "      <td>2269.372093</td>\n",
       "    </tr>\n",
       "    <tr>\n",
       "      <th>Balance</th>\n",
       "      <td>117307.843774</td>\n",
       "      <td>42573.149918</td>\n",
       "      <td>187792.460993</td>\n",
       "      <td>117326.186441</td>\n",
       "      <td>68876.581395</td>\n",
       "    </tr>\n",
       "    <tr>\n",
       "      <th>Qual_miles</th>\n",
       "      <td>50.947409</td>\n",
       "      <td>49.244281</td>\n",
       "      <td>471.163121</td>\n",
       "      <td>5445.305085</td>\n",
       "      <td>23.255814</td>\n",
       "    </tr>\n",
       "    <tr>\n",
       "      <th>cc1_miles</th>\n",
       "      <td>3.698376</td>\n",
       "      <td>1.190359</td>\n",
       "      <td>2.262411</td>\n",
       "      <td>2.033898</td>\n",
       "      <td>1.139535</td>\n",
       "    </tr>\n",
       "    <tr>\n",
       "      <th>cc2_miles</th>\n",
       "      <td>1.000000</td>\n",
       "      <td>1.000000</td>\n",
       "      <td>1.000000</td>\n",
       "      <td>1.000000</td>\n",
       "      <td>2.348837</td>\n",
       "    </tr>\n",
       "    <tr>\n",
       "      <th>cc3_miles</th>\n",
       "      <td>1.001547</td>\n",
       "      <td>1.000408</td>\n",
       "      <td>1.000000</td>\n",
       "      <td>1.000000</td>\n",
       "      <td>1.000000</td>\n",
       "    </tr>\n",
       "    <tr>\n",
       "      <th>Bonus_miles</th>\n",
       "      <td>38812.105955</td>\n",
       "      <td>4300.133987</td>\n",
       "      <td>33236.602837</td>\n",
       "      <td>19059.610169</td>\n",
       "      <td>14689.837209</td>\n",
       "    </tr>\n",
       "    <tr>\n",
       "      <th>Bonus_trans</th>\n",
       "      <td>18.851508</td>\n",
       "      <td>6.607435</td>\n",
       "      <td>27.978723</td>\n",
       "      <td>12.305085</td>\n",
       "      <td>17.534884</td>\n",
       "    </tr>\n",
       "    <tr>\n",
       "      <th>Flight_miles_12mo</th>\n",
       "      <td>327.228152</td>\n",
       "      <td>209.535948</td>\n",
       "      <td>5773.602837</td>\n",
       "      <td>965.796610</td>\n",
       "      <td>582.627907</td>\n",
       "    </tr>\n",
       "    <tr>\n",
       "      <th>Flight_trans_12</th>\n",
       "      <td>0.986079</td>\n",
       "      <td>0.641340</td>\n",
       "      <td>16.730496</td>\n",
       "      <td>2.881356</td>\n",
       "      <td>2.209302</td>\n",
       "    </tr>\n",
       "    <tr>\n",
       "      <th>Days_since_enroll</th>\n",
       "      <td>4855.453983</td>\n",
       "      <td>3702.191993</td>\n",
       "      <td>4684.851064</td>\n",
       "      <td>3874.830508</td>\n",
       "      <td>3968.930233</td>\n",
       "    </tr>\n",
       "    <tr>\n",
       "      <th>Award</th>\n",
       "      <td>0.560712</td>\n",
       "      <td>0.241013</td>\n",
       "      <td>0.773050</td>\n",
       "      <td>0.542373</td>\n",
       "      <td>0.395349</td>\n",
       "    </tr>\n",
       "    <tr>\n",
       "      <th>Kmeans_Clustering</th>\n",
       "      <td>0.000000</td>\n",
       "      <td>1.000000</td>\n",
       "      <td>2.000000</td>\n",
       "      <td>3.000000</td>\n",
       "      <td>4.000000</td>\n",
       "    </tr>\n",
       "  </tbody>\n",
       "</table>\n",
       "</div>"
      ],
      "text/plain": [
       "                    Cluster1_avg  Cluster2_avg   Cluster3_avg   Cluster4_avg  \\\n",
       "ID                   1617.943542   2235.482843    1742.758865    2110.423729   \n",
       "Balance            117307.843774  42573.149918  187792.460993  117326.186441   \n",
       "Qual_miles             50.947409     49.244281     471.163121    5445.305085   \n",
       "cc1_miles               3.698376      1.190359       2.262411       2.033898   \n",
       "cc2_miles               1.000000      1.000000       1.000000       1.000000   \n",
       "cc3_miles               1.001547      1.000408       1.000000       1.000000   \n",
       "Bonus_miles         38812.105955   4300.133987   33236.602837   19059.610169   \n",
       "Bonus_trans            18.851508      6.607435      27.978723      12.305085   \n",
       "Flight_miles_12mo     327.228152    209.535948    5773.602837     965.796610   \n",
       "Flight_trans_12         0.986079      0.641340      16.730496       2.881356   \n",
       "Days_since_enroll    4855.453983   3702.191993    4684.851064    3874.830508   \n",
       "Award                   0.560712      0.241013       0.773050       0.542373   \n",
       "Kmeans_Clustering       0.000000      1.000000       2.000000       3.000000   \n",
       "\n",
       "                   Cluster5_avg  \n",
       "ID                  2269.372093  \n",
       "Balance            68876.581395  \n",
       "Qual_miles            23.255814  \n",
       "cc1_miles              1.139535  \n",
       "cc2_miles              2.348837  \n",
       "cc3_miles              1.000000  \n",
       "Bonus_miles        14689.837209  \n",
       "Bonus_trans           17.534884  \n",
       "Flight_miles_12mo    582.627907  \n",
       "Flight_trans_12        2.209302  \n",
       "Days_since_enroll   3968.930233  \n",
       "Award                  0.395349  \n",
       "Kmeans_Clustering      4.000000  "
      ]
     },
     "execution_count": 50,
     "metadata": {},
     "output_type": "execute_result"
    }
   ],
   "source": [
    "avg_df = pd.concat([cluster1,cluster2,cluster3,cluster4,cluster5],axis=1)\n",
    "avg_df"
   ]
  },
  {
   "cell_type": "markdown",
   "metadata": {
    "papermill": {
     "duration": 0.1426,
     "end_time": "2020-10-20T15:31:10.479478",
     "exception": false,
     "start_time": "2020-10-20T15:31:10.336878",
     "status": "completed"
    },
    "tags": []
   },
   "source": [
    "Conclusion :\n",
    "    \n",
    "* As decided need to focous on first two clusters..\n",
    "\n",
    "\n",
    "* Considering past Award status(0 or 1) cluster number1 shows award avg as 0.56 that means people awarded with scheme. \n",
    "\n",
    "\n",
    "* Similarly for cluster number 2 award avg. is minimum. Since avg is low that means now maximim award given to cluster number1 in the past. Need to add future schemes for cluster number two members on different bnus points & different card tranction bonus. "
   ]
  },
  {
   "cell_type": "code",
   "execution_count": 51,
   "metadata": {
    "execution": {
     "iopub.execute_input": "2020-10-20T15:31:10.769748Z",
     "iopub.status.busy": "2020-10-20T15:31:10.762664Z",
     "iopub.status.idle": "2020-10-20T15:31:12.971146Z",
     "shell.execute_reply": "2020-10-20T15:31:12.971960Z"
    },
    "papermill": {
     "duration": 2.35496,
     "end_time": "2020-10-20T15:31:12.972169",
     "exception": false,
     "start_time": "2020-10-20T15:31:10.617209",
     "status": "completed"
    },
    "scrolled": false,
    "tags": []
   },
   "outputs": [
    {
     "data": {
      "image/png": "[encoded data removed]",
      "text/plain": [
       "<Figure size 576x432 with 1 Axes>"
      ]
     },
     "metadata": {},
     "output_type": "display_data"
    },
    {
     "name": "stdout",
     "output_type": "stream",
     "text": [
      "\n"
     ]
    },
    {
     "data": {
      "image/png": "[encoded data removed]",
      "text/plain": [
       "<Figure size 576x432 with 1 Axes>"
      ]
     },
     "metadata": {},
     "output_type": "display_data"
    },
    {
     "name": "stdout",
     "output_type": "stream",
     "text": [
      "\n"
     ]
    },
    {
     "data": {
      "image/png": "[encoded data removed]",
      "text/plain": [
       "<Figure size 576x432 with 1 Axes>"
      ]
     },
     "metadata": {},
     "output_type": "display_data"
    },
    {
     "name": "stdout",
     "output_type": "stream",
     "text": [
      "\n"
     ]
    },
    {
     "data": {
      "image/png": "[encoded data removed]",
      "text/plain": [
       "<Figure size 576x432 with 1 Axes>"
      ]
     },
     "metadata": {},
     "output_type": "display_data"
    },
    {
     "name": "stdout",
     "output_type": "stream",
     "text": [
      "\n"
     ]
    },
    {
     "data": {
      "image/png": "[encoded data removed]",
      "text/plain": [
       "<Figure size 576x432 with 1 Axes>"
      ]
     },
     "metadata": {},
     "output_type": "display_data"
    },
    {
     "name": "stdout",
     "output_type": "stream",
     "text": [
      "\n"
     ]
    },
    {
     "data": {
      "image/png": "[encoded data removed]",
      "text/plain": [
       "<Figure size 576x432 with 1 Axes>"
      ]
     },
     "metadata": {},
     "output_type": "display_data"
    },
    {
     "name": "stdout",
     "output_type": "stream",
     "text": [
      "\n"
     ]
    },
    {
     "data": {
      "image/png": "[encoded data removed]",
      "text/plain": [
       "<Figure size 576x432 with 1 Axes>"
      ]
     },
     "metadata": {},
     "output_type": "display_data"
    },
    {
     "name": "stdout",
     "output_type": "stream",
     "text": [
      "\n"
     ]
    },
    {
     "data": {
      "image/png": "[encoded data removed]",
      "text/plain": [
       "<Figure size 576x432 with 1 Axes>"
      ]
     },
     "metadata": {},
     "output_type": "display_data"
    },
    {
     "name": "stdout",
     "output_type": "stream",
     "text": [
      "\n"
     ]
    },
    {
     "data": {
      "image/png": "[encoded data removed]",
      "text/plain": [
       "<Figure size 576x432 with 1 Axes>"
      ]
     },
     "metadata": {},
     "output_type": "display_data"
    },
    {
     "name": "stdout",
     "output_type": "stream",
     "text": [
      "\n"
     ]
    },
    {
     "data": {
      "image/png": "[encoded data removed]",
      "text/plain": [
       "<Figure size 576x432 with 1 Axes>"
      ]
     },
     "metadata": {},
     "output_type": "display_data"
    },
    {
     "name": "stdout",
     "output_type": "stream",
     "text": [
      "\n"
     ]
    },
    {
     "data": {
      "image/png": "[encoded data removed]",
      "text/plain": [
       "<Figure size 576x432 with 1 Axes>"
      ]
     },
     "metadata": {},
     "output_type": "display_data"
    },
    {
     "name": "stdout",
     "output_type": "stream",
     "text": [
      "\n"
     ]
    },
    {
     "data": {
      "image/png": "[encoded data removed]",
      "text/plain": [
       "<Figure size 576x432 with 1 Axes>"
      ]
     },
     "metadata": {},
     "output_type": "display_data"
    },
    {
     "name": "stdout",
     "output_type": "stream",
     "text": [
      "\n"
     ]
    },
    {
     "data": {
      "image/png": "[encoded data removed]",
      "text/plain": [
       "<Figure size 576x432 with 1 Axes>"
      ]
     },
     "metadata": {},
     "output_type": "display_data"
    },
    {
     "name": "stdout",
     "output_type": "stream",
     "text": [
      "\n"
     ]
    }
   ],
   "source": [
    "# Extract and plot one Column data .xs method\n",
    "for i , row in avg_df.iterrows():\n",
    "    fig = plt.subplots(figsize=(8,6))\n",
    "    j = avg_df.xs(i ,axis = 0)\n",
    "    plt.title(i, fontsize=16, fontweight=20)\n",
    "    j.plot(kind='bar',fontsize=14)\n",
    "    plt.show()\n",
    "    print()"
   ]
  },
  {
   "cell_type": "markdown",
   "metadata": {
    "papermill": {
     "duration": 0.154449,
     "end_time": "2020-10-20T15:31:13.944186",
     "exception": false,
     "start_time": "2020-10-20T15:31:13.789737",
     "status": "completed"
    },
    "tags": []
   },
   "source": [
    "# Conclusion:"
   ]
  },
  {
   "cell_type": "markdown",
   "metadata": {
    "papermill": {
     "duration": 0.155151,
     "end_time": "2020-10-20T15:31:14.262569",
     "exception": false,
     "start_time": "2020-10-20T15:31:14.107418",
     "status": "completed"
    },
    "tags": []
   },
   "source": [
    "* I have applied EDA to analyze dataset.Discovered correlation between diff variables and found no colinearity.\n",
    "\n",
    "\n",
    "* Applied Standardazation & MinMaxScalar transformation on the data to use Principle componets analysis effectively.\n",
    "\n",
    "\n",
    "* I have used & analyzed two clustering techniques here..i) KMeans & ii) Hierarchical Clusterig.\n",
    "\n",
    "* By applying clustering on diff. PCA obtained with diff transformation data shows fluctuation in model score. So finally the MinMaxScalr found less score so not used for further model building.\n",
    "\n",
    "\n",
    "* KMeans clustering is sensitive to outliers.Since produced min. sil. score. whereas hierarchical gives max. in this case.\n",
    "\n",
    "\n",
    "* Hierarchical clustering given total cluster number=5, but when i comapred both kmean & Hierarchical clustering, the hierarchical clustering contains approx 99% data in cluster 1 only. So this will not useful to analyze diff. customer. So i continued with KMeans."
   ]
  },
  {
   "cell_type": "markdown",
   "metadata": {
    "papermill": {
     "duration": 0.155713,
     "end_time": "2020-10-20T15:31:14.572751",
     "exception": false,
     "start_time": "2020-10-20T15:31:14.417038",
     "status": "completed"
    },
    "tags": []
   },
   "source": [
    "****"
   ]
  }
 ],
 "metadata": {
  "kernelspec": {
   "display_name": "Python 3 (ipykernel)",
   "language": "python",
   "name": "python3"
  },
  "language_info": {
   "codemirror_mode": {
    "name": "ipython",
    "version": 3
   },
   "file_extension": ".py",
   "mimetype": "text/x-python",
   "name": "python",
   "nbconvert_exporter": "python",
   "pygments_lexer": "ipython3",
   "version": "3.10.9"
  },
  "papermill": {
   "duration": 207.100195,
   "end_time": "2020-10-20T15:31:15.155484",
   "environment_variables": {},
   "exception": null,
   "input_path": "__notebook__.ipynb",
   "output_path": "__notebook__.ipynb",
   "parameters": {},
   "start_time": "2020-10-20T15:27:48.055289",
   "version": "2.1.0"
  }
 },
 "nbformat": 4,
 "nbformat_minor": 4
}
